{
 "cells": [
  {
   "cell_type": "code",
   "execution_count": 1,
   "metadata": {},
   "outputs": [],
   "source": [
    "import pandas as pd\n"
   ]
  },
  {
   "cell_type": "code",
   "execution_count": 8,
   "metadata": {},
   "outputs": [
    {
     "data": {
      "text/html": [
       "<div>\n",
       "<style scoped>\n",
       "    .dataframe tbody tr th:only-of-type {\n",
       "        vertical-align: middle;\n",
       "    }\n",
       "\n",
       "    .dataframe tbody tr th {\n",
       "        vertical-align: top;\n",
       "    }\n",
       "\n",
       "    .dataframe thead th {\n",
       "        text-align: right;\n",
       "    }\n",
       "</style>\n",
       "<table border=\"1\" class=\"dataframe\">\n",
       "  <thead>\n",
       "    <tr style=\"text-align: right;\">\n",
       "      <th></th>\n",
       "      <th>title</th>\n",
       "      <th>seller</th>\n",
       "      <th>property_type</th>\n",
       "      <th>address</th>\n",
       "      <th>price</th>\n",
       "      <th>bedrooms</th>\n",
       "      <th>bathrooms</th>\n",
       "      <th>built_area</th>\n",
       "      <th>land_area</th>\n",
       "      <th>description</th>\n",
       "      <th>publication_date</th>\n",
       "    </tr>\n",
       "  </thead>\n",
       "  <tbody>\n",
       "    <tr>\n",
       "      <th>0</th>\n",
       "      <td>NaN</td>\n",
       "      <td>SE VENDE LINDA CASA EN SAN  FELIPE  DEL AGUA ,...</td>\n",
       "      <td>Casa</td>\n",
       "      <td>Volcanes, Oaxaca, Oaxaca</td>\n",
       "      <td>[5500000]</td>\n",
       "      <td>[4]</td>\n",
       "      <td>[4]</td>\n",
       "      <td>[300]</td>\n",
       "      <td>[200]</td>\n",
       "      <td>Suave y acogedora es lo que describe a casa Ma...</td>\n",
       "      <td>4 may 2023 - Publicado por GABRO</td>\n",
       "    </tr>\n",
       "    <tr>\n",
       "      <th>1</th>\n",
       "      <td>NaN</td>\n",
       "      <td>Hermosa casa en venta,Nuroa</td>\n",
       "      <td>Casa</td>\n",
       "      <td>Jardín, Oaxaca, Oaxaca</td>\n",
       "      <td>[1850000]</td>\n",
       "      <td>[5]</td>\n",
       "      <td>[3]</td>\n",
       "      <td>[200]</td>\n",
       "      <td>[150]</td>\n",
       "      <td>Casa de dos niveles espaciosa, ideal para ver ...</td>\n",
       "      <td>3 may 2023 - Publicado por Braulio Rogelio Car...</td>\n",
       "    </tr>\n",
       "    <tr>\n",
       "      <th>2</th>\n",
       "      <td>NaN</td>\n",
       "      <td>CASA EN SAN MARTIN A 2 KM DEL CENTRO DE LA CIU...</td>\n",
       "      <td>Casa</td>\n",
       "      <td>Emiliano Zapata, Oaxaca, Oaxaca</td>\n",
       "      <td>[2100000]</td>\n",
       "      <td>[5]</td>\n",
       "      <td>[3]</td>\n",
       "      <td>[1]</td>\n",
       "      <td>[200]</td>\n",
       "      <td>¡EXCELENTE OPORTUNIDAD!! PROPIEDAD EN VENTA EN...</td>\n",
       "      <td>3 may 2023 - Publicado por Tu casa en Oaxaca</td>\n",
       "    </tr>\n",
       "    <tr>\n",
       "      <th>3</th>\n",
       "      <td>NaN</td>\n",
       "      <td>Hermosa casa en venta,Nuroa</td>\n",
       "      <td>Casa</td>\n",
       "      <td>Jardín, Oaxaca, Oaxaca</td>\n",
       "      <td>[1850000]</td>\n",
       "      <td>[5]</td>\n",
       "      <td>[3]</td>\n",
       "      <td>[200]</td>\n",
       "      <td>[150]</td>\n",
       "      <td>Casa de dos niveles espaciosa, ideal para ver ...</td>\n",
       "      <td>3 may 2023 - Publicado por Braulio Rogelio Car...</td>\n",
       "    </tr>\n",
       "    <tr>\n",
       "      <th>4</th>\n",
       "      <td>NaN</td>\n",
       "      <td>Hermosa casa en venta,Nuroa</td>\n",
       "      <td>Casa</td>\n",
       "      <td>Jardín, Oaxaca, Oaxaca</td>\n",
       "      <td>[1850000]</td>\n",
       "      <td>[5]</td>\n",
       "      <td>[3]</td>\n",
       "      <td>[200]</td>\n",
       "      <td>[150]</td>\n",
       "      <td>Casa de dos niveles espaciosa, ideal para ver ...</td>\n",
       "      <td>3 may 2023 - Publicado por Braulio Rogelio Car...</td>\n",
       "    </tr>\n",
       "    <tr>\n",
       "      <th>...</th>\n",
       "      <td>...</td>\n",
       "      <td>...</td>\n",
       "      <td>...</td>\n",
       "      <td>...</td>\n",
       "      <td>...</td>\n",
       "      <td>...</td>\n",
       "      <td>...</td>\n",
       "      <td>...</td>\n",
       "      <td>...</td>\n",
       "      <td>...</td>\n",
       "      <td>...</td>\n",
       "    </tr>\n",
       "    <tr>\n",
       "      <th>205</th>\n",
       "      <td>NaN</td>\n",
       "      <td>Excelente casa en venta en Fracc. Trinidad de ...</td>\n",
       "      <td>Casa</td>\n",
       "      <td>Fracc Trinidad de las Huertas, Oaxaca, Oaxaca</td>\n",
       "      <td>[6450000]</td>\n",
       "      <td>NaN</td>\n",
       "      <td>[2]</td>\n",
       "      <td>NaN</td>\n",
       "      <td>[180]</td>\n",
       "      <td>🏡🏡🏡En venta excelente casa en Trinidad de las ...</td>\n",
       "      <td>Hace 5 días, 10 horas - Publicado por Mi Casa ...</td>\n",
       "    </tr>\n",
       "    <tr>\n",
       "      <th>206</th>\n",
       "      <td>NaN</td>\n",
       "      <td>Casa - Oaxaca Centro,Nuroa</td>\n",
       "      <td>Casa</td>\n",
       "      <td>Barrio Xochimilco, Oaxaca, Oaxaca</td>\n",
       "      <td>[27500000]</td>\n",
       "      <td>[9]</td>\n",
       "      <td>[2]</td>\n",
       "      <td>[750]</td>\n",
       "      <td>NaN</td>\n",
       "      <td>Casa colonial catalogada  en el centro de Oaxa...</td>\n",
       "      <td>Hace 3 días, 10 horas - Publicado por GBSA INM...</td>\n",
       "    </tr>\n",
       "    <tr>\n",
       "      <th>207</th>\n",
       "      <td>NaN</td>\n",
       "      <td>Casa - San Felipe Del Agua 1,Nuroa</td>\n",
       "      <td>Casa</td>\n",
       "      <td>San Felipe del Agua, Oaxaca, Oaxaca</td>\n",
       "      <td>[13900000]</td>\n",
       "      <td>[3]</td>\n",
       "      <td>[3]</td>\n",
       "      <td>[433]</td>\n",
       "      <td>NaN</td>\n",
       "      <td>Moderna casa en zona norte de la ciudad.Planta...</td>\n",
       "      <td>Hace 3 días, 10 horas - Publicado por GBSA INM...</td>\n",
       "    </tr>\n",
       "    <tr>\n",
       "      <th>208</th>\n",
       "      <td>NaN</td>\n",
       "      <td>HERMOSA CASA EN LA ZONA NORTE DE LA CD DE OAXA...</td>\n",
       "      <td>Casa</td>\n",
       "      <td>Ejido Guadalupe Victoria, Oaxaca, Oaxaca</td>\n",
       "      <td>[8800000]</td>\n",
       "      <td>[3]</td>\n",
       "      <td>[2]</td>\n",
       "      <td>[210]</td>\n",
       "      <td>[354]</td>\n",
       "      <td>SE VENDE  CASA EN EJIDO GUADALUPE VICTORIAPROP...</td>\n",
       "      <td>Hace 3 días, 4 horas - Publicado por AGENTES D...</td>\n",
       "    </tr>\n",
       "    <tr>\n",
       "      <th>209</th>\n",
       "      <td>NaN</td>\n",
       "      <td>SE VENDE HERMOSA RESIDENCIA EN SAN FELIPE DEL ...</td>\n",
       "      <td>Casa</td>\n",
       "      <td>San Felipe del Agua, Oaxaca, Oaxaca</td>\n",
       "      <td>[11500000]</td>\n",
       "      <td>[5]</td>\n",
       "      <td>[6]</td>\n",
       "      <td>[500]</td>\n",
       "      <td>[500]</td>\n",
       "      <td>Descripción.ENAMÓRATE DE ESTA EXCLUSIVA PROPIE...</td>\n",
       "      <td>31 may 2023 - Publicado por GABRO</td>\n",
       "    </tr>\n",
       "  </tbody>\n",
       "</table>\n",
       "<p>210 rows × 11 columns</p>\n",
       "</div>"
      ],
      "text/plain": [
       "     title                                             seller property_type  \\\n",
       "0      NaN  SE VENDE LINDA CASA EN SAN  FELIPE  DEL AGUA ,...          Casa   \n",
       "1      NaN                        Hermosa casa en venta,Nuroa          Casa   \n",
       "2      NaN  CASA EN SAN MARTIN A 2 KM DEL CENTRO DE LA CIU...          Casa   \n",
       "3      NaN                        Hermosa casa en venta,Nuroa          Casa   \n",
       "4      NaN                        Hermosa casa en venta,Nuroa          Casa   \n",
       "..     ...                                                ...           ...   \n",
       "205    NaN  Excelente casa en venta en Fracc. Trinidad de ...          Casa   \n",
       "206    NaN                         Casa - Oaxaca Centro,Nuroa          Casa   \n",
       "207    NaN                 Casa - San Felipe Del Agua 1,Nuroa          Casa   \n",
       "208    NaN  HERMOSA CASA EN LA ZONA NORTE DE LA CD DE OAXA...          Casa   \n",
       "209    NaN  SE VENDE HERMOSA RESIDENCIA EN SAN FELIPE DEL ...          Casa   \n",
       "\n",
       "                                           address       price bedrooms  \\\n",
       "0                         Volcanes, Oaxaca, Oaxaca   [5500000]      [4]   \n",
       "1                           Jardín, Oaxaca, Oaxaca   [1850000]      [5]   \n",
       "2                  Emiliano Zapata, Oaxaca, Oaxaca   [2100000]      [5]   \n",
       "3                           Jardín, Oaxaca, Oaxaca   [1850000]      [5]   \n",
       "4                           Jardín, Oaxaca, Oaxaca   [1850000]      [5]   \n",
       "..                                             ...         ...      ...   \n",
       "205  Fracc Trinidad de las Huertas, Oaxaca, Oaxaca   [6450000]      NaN   \n",
       "206              Barrio Xochimilco, Oaxaca, Oaxaca  [27500000]      [9]   \n",
       "207            San Felipe del Agua, Oaxaca, Oaxaca  [13900000]      [3]   \n",
       "208       Ejido Guadalupe Victoria, Oaxaca, Oaxaca   [8800000]      [3]   \n",
       "209            San Felipe del Agua, Oaxaca, Oaxaca  [11500000]      [5]   \n",
       "\n",
       "    bathrooms built_area land_area  \\\n",
       "0         [4]      [300]     [200]   \n",
       "1         [3]      [200]     [150]   \n",
       "2         [3]        [1]     [200]   \n",
       "3         [3]      [200]     [150]   \n",
       "4         [3]      [200]     [150]   \n",
       "..        ...        ...       ...   \n",
       "205       [2]        NaN     [180]   \n",
       "206       [2]      [750]       NaN   \n",
       "207       [3]      [433]       NaN   \n",
       "208       [2]      [210]     [354]   \n",
       "209       [6]      [500]     [500]   \n",
       "\n",
       "                                           description  \\\n",
       "0    Suave y acogedora es lo que describe a casa Ma...   \n",
       "1    Casa de dos niveles espaciosa, ideal para ver ...   \n",
       "2    ¡EXCELENTE OPORTUNIDAD!! PROPIEDAD EN VENTA EN...   \n",
       "3    Casa de dos niveles espaciosa, ideal para ver ...   \n",
       "4    Casa de dos niveles espaciosa, ideal para ver ...   \n",
       "..                                                 ...   \n",
       "205  🏡🏡🏡En venta excelente casa en Trinidad de las ...   \n",
       "206  Casa colonial catalogada  en el centro de Oaxa...   \n",
       "207  Moderna casa en zona norte de la ciudad.Planta...   \n",
       "208  SE VENDE  CASA EN EJIDO GUADALUPE VICTORIAPROP...   \n",
       "209  Descripción.ENAMÓRATE DE ESTA EXCLUSIVA PROPIE...   \n",
       "\n",
       "                                      publication_date  \n",
       "0                     4 may 2023 - Publicado por GABRO  \n",
       "1    3 may 2023 - Publicado por Braulio Rogelio Car...  \n",
       "2         3 may 2023 - Publicado por Tu casa en Oaxaca  \n",
       "3    3 may 2023 - Publicado por Braulio Rogelio Car...  \n",
       "4    3 may 2023 - Publicado por Braulio Rogelio Car...  \n",
       "..                                                 ...  \n",
       "205  Hace 5 días, 10 horas - Publicado por Mi Casa ...  \n",
       "206  Hace 3 días, 10 horas - Publicado por GBSA INM...  \n",
       "207  Hace 3 días, 10 horas - Publicado por GBSA INM...  \n",
       "208  Hace 3 días, 4 horas - Publicado por AGENTES D...  \n",
       "209                  31 may 2023 - Publicado por GABRO  \n",
       "\n",
       "[210 rows x 11 columns]"
      ]
     },
     "execution_count": 8,
     "metadata": {},
     "output_type": "execute_result"
    }
   ],
   "source": [
    "data = pd.read_csv(\"casas_nuroa_2.csv\")\n",
    "data[]"
   ]
  },
  {
   "cell_type": "code",
   "execution_count": 13,
   "metadata": {},
   "outputs": [],
   "source": [
    "data = data.drop_duplicates()\n",
    "data[\"title\"] = data[\"seller\"]"
   ]
  },
  {
   "cell_type": "code",
   "execution_count": 15,
   "metadata": {},
   "outputs": [],
   "source": [
    "data[\"seller\"] = \"Nuroa\""
   ]
  },
  {
   "cell_type": "code",
   "execution_count": 17,
   "metadata": {},
   "outputs": [],
   "source": [
    "# data.to_csv(\"casas_nuroa.csv\", index=False)"
   ]
  },
  {
   "cell_type": "code",
   "execution_count": 20,
   "metadata": {},
   "outputs": [],
   "source": [
    "df = pd.read_csv(\"casas_mitula.csv\")\n",
    "df = df.drop_duplicates()"
   ]
  },
  {
   "cell_type": "code",
   "execution_count": 25,
   "metadata": {},
   "outputs": [],
   "source": [
    "datos_concatenados = pd.concat([data, df], ignore_index=True)"
   ]
  },
  {
   "cell_type": "code",
   "execution_count": 26,
   "metadata": {},
   "outputs": [
    {
     "data": {
      "text/plain": [
       "title                0\n",
       "seller               0\n",
       "property_type        1\n",
       "address              1\n",
       "price                1\n",
       "bedrooms            20\n",
       "bathrooms           22\n",
       "built_area          41\n",
       "land_area           47\n",
       "description          1\n",
       "publication_date     1\n",
       "dtype: int64"
      ]
     },
     "execution_count": 26,
     "metadata": {},
     "output_type": "execute_result"
    }
   ],
   "source": [
    "datos_concatenados.isnull().sum()"
   ]
  },
  {
   "cell_type": "code",
   "execution_count": 37,
   "metadata": {},
   "outputs": [
    {
     "data": {
      "text/plain": [
       "267"
      ]
     },
     "execution_count": 37,
     "metadata": {},
     "output_type": "execute_result"
    }
   ],
   "source": [
    "len(datos_concatenados)"
   ]
  },
  {
   "cell_type": "code",
   "execution_count": 38,
   "metadata": {},
   "outputs": [
    {
     "data": {
      "text/plain": [
       "76"
      ]
     },
     "execution_count": 38,
     "metadata": {},
     "output_type": "execute_result"
    }
   ],
   "source": [
    "len(datos_concatenados[(datos_concatenados[\"land_area\"].isnull()) | (datos_concatenados[\"built_area\"].isnull()) | (datos_concatenados[\"bedrooms\"].isnull()) | (datos_concatenados[\"bathrooms\"].isnull())])"
   ]
  }
 ],
 "metadata": {
  "kernelspec": {
   "display_name": "venv",
   "language": "python",
   "name": "python3"
  },
  "language_info": {
   "codemirror_mode": {
    "name": "ipython",
    "version": 3
   },
   "file_extension": ".py",
   "mimetype": "text/x-python",
   "name": "python",
   "nbconvert_exporter": "python",
   "pygments_lexer": "ipython3",
   "version": "3.9.7"
  },
  "orig_nbformat": 4
 },
 "nbformat": 4,
 "nbformat_minor": 2
}
