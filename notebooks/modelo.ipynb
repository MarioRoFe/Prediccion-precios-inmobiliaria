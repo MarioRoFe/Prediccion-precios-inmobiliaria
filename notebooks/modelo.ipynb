{
 "cells": [
  {
   "cell_type": "code",
   "execution_count": 10,
   "metadata": {},
   "outputs": [],
   "source": [
    "import pandas as pd"
   ]
  },
  {
   "cell_type": "code",
   "execution_count": 11,
   "metadata": {},
   "outputs": [],
   "source": [
    "# Se cargan los dataframes con los datos limpios\n",
    "arlette = pd.read_csv(\"/home/mario/Proyectos_Mario/proyecto_alonso/datos_limpios/datos_arlette.csv\")\n",
    "lamudi = pd.read_csv(\"/home/mario/Proyectos_Mario/proyecto_alonso/datos_limpios/datos_lamudi.csv\")\n",
    "mercadoLibre = pd.read_csv(\"/home/mario/Proyectos_Mario/proyecto_alonso/datos_limpios/datos_mercadoLibre.csv\")\n",
    "mitula = pd.read_csv(\"/home/mario/Proyectos_Mario/proyecto_alonso/datos_limpios/datos_mitula.csv\")\n",
    "nocnok = pd.read_csv(\"/home/mario/Proyectos_Mario/proyecto_alonso/datos_limpios/datos_nocnok.csv\")\n",
    "nuroa = pd.read_csv(\"/home/mario/Proyectos_Mario/proyecto_alonso/datos_limpios/datos_nuroa.csv\")"
   ]
  },
  {
   "cell_type": "code",
   "execution_count": 12,
   "metadata": {},
   "outputs": [],
   "source": [
    "# Se crea una lista con el orden en el que se quieren las columnas\n",
    "# para cada dataframe\n",
    "# orden_columnas = [\"title\", \"seller\", \"property_type\", \n",
    "#                   \"address\", \"zip_code\", \"price\", \n",
    "#                   \"bedrooms\", \"bathrooms\", \"built_area\", \n",
    "#                   \"land_area\", \"description\", \"parking\"]\n",
    "\n",
    "orden_columnas = [\"description\", \"price\", \"zip_code\", \"bedrooms\", \"bathrooms\", \n",
    "                  \"built_area\", \"land_area\", \"parking\"]\n",
    "\n",
    "# Se reordenan las columans en todos los dataframes\n",
    "arlette = arlette[orden_columnas]\n",
    "lamudi = lamudi[orden_columnas]\n",
    "mercadoLibre = mercadoLibre[orden_columnas]\n",
    "mitula = mitula[orden_columnas]\n",
    "nocnok = nocnok[orden_columnas]\n",
    "nuroa = nuroa[orden_columnas]"
   ]
  },
  {
   "cell_type": "code",
   "execution_count": 13,
   "metadata": {},
   "outputs": [],
   "source": [
    "# Se crea un dataframe concatenando los datos de todos los dataframes\n",
    "df = pd.concat([arlette, lamudi, mercadoLibre, mitula, nocnok, nuroa], \n",
    "               ignore_index=True)"
   ]
  },
  {
   "cell_type": "code",
   "execution_count": 14,
   "metadata": {},
   "outputs": [],
   "source": [
    "df = df.drop_duplicates()\n",
    "df = df.reset_index(drop=\"first\")"
   ]
  },
  {
   "cell_type": "code",
   "execution_count": 17,
   "metadata": {},
   "outputs": [
    {
     "data": {
      "text/plain": [
       "246"
      ]
     },
     "execution_count": 17,
     "metadata": {},
     "output_type": "execute_result"
    }
   ],
   "source": [
    "len(df)"
   ]
  },
  {
   "cell_type": "code",
   "execution_count": 16,
   "metadata": {},
   "outputs": [
    {
     "data": {
      "text/plain": [
       "175"
      ]
     },
     "execution_count": 16,
     "metadata": {},
     "output_type": "execute_result"
    }
   ],
   "source": [
    "len(df.dropna())"
   ]
  }
 ],
 "metadata": {
  "kernelspec": {
   "display_name": "venv",
   "language": "python",
   "name": "python3"
  },
  "language_info": {
   "codemirror_mode": {
    "name": "ipython",
    "version": 3
   },
   "file_extension": ".py",
   "mimetype": "text/x-python",
   "name": "python",
   "nbconvert_exporter": "python",
   "pygments_lexer": "ipython3",
   "version": "3.9.7"
  },
  "orig_nbformat": 4
 },
 "nbformat": 4,
 "nbformat_minor": 2
}
