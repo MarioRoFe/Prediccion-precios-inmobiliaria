{
 "cells": [
  {
   "cell_type": "code",
   "execution_count": 1,
   "metadata": {},
   "outputs": [],
   "source": [
    "import pandas as pd\n",
    "import re"
   ]
  },
  {
   "cell_type": "code",
   "execution_count": 2,
   "metadata": {},
   "outputs": [],
   "source": [
    "mitula = pd.read_csv(\"../datos_extraidos/casas_mitula.csv\")"
   ]
  },
  {
   "cell_type": "code",
   "execution_count": 3,
   "metadata": {},
   "outputs": [],
   "source": [
    "# Se eliminan todas las casas que tienen un remate bancario o hipotecario\n",
    "# ya que no representan el valor real \n",
    "casas_remate = list(mitula[mitula.description.str.contains(\"remate|bancaria|recuperación|hipotecaria\", case=False)].index)\n",
    "mitula = mitula.drop(index=casas_remate)\n",
    "mitula = mitula.drop(columns=\"publication_date\")\n",
    "mitula = mitula.reset_index(drop=\"first\")"
   ]
  },
  {
   "cell_type": "code",
   "execution_count": 4,
   "metadata": {},
   "outputs": [
    {
     "name": "stdout",
     "output_type": "stream",
     "text": [
      "<class 'pandas.core.frame.DataFrame'>\n",
      "RangeIndex: 108 entries, 0 to 107\n",
      "Data columns (total 10 columns):\n",
      " #   Column         Non-Null Count  Dtype  \n",
      "---  ------         --------------  -----  \n",
      " 0   title          108 non-null    object \n",
      " 1   seller         108 non-null    object \n",
      " 2   property_type  108 non-null    object \n",
      " 3   address        108 non-null    object \n",
      " 4   price          108 non-null    int64  \n",
      " 5   bedrooms       93 non-null     float64\n",
      " 6   bathrooms      93 non-null     float64\n",
      " 7   built_area     89 non-null     float64\n",
      " 8   land_area      91 non-null     float64\n",
      " 9   description    108 non-null    object \n",
      "dtypes: float64(4), int64(1), object(5)\n",
      "memory usage: 8.6+ KB\n"
     ]
    }
   ],
   "source": [
    "# Hay columnas con datos nulos\n",
    "mitula.info()"
   ]
  },
  {
   "cell_type": "code",
   "execution_count": 5,
   "metadata": {},
   "outputs": [
    {
     "data": {
      "text/plain": [
       "array(['Casa', 'Terreno', 'Locales Comerciales', 'Villa',\n",
       "       'Casas En Condominios', 'Edificio'], dtype=object)"
      ]
     },
     "execution_count": 5,
     "metadata": {},
     "output_type": "execute_result"
    }
   ],
   "source": [
    "# Al parecer todos los datos pertenecen a casas\n",
    "mitula.property_type.unique()"
   ]
  },
  {
   "cell_type": "code",
   "execution_count": 6,
   "metadata": {},
   "outputs": [],
   "source": [
    "# Se eliminan los datos nulos\n",
    "mitula = mitula.dropna(ignore_index=True)"
   ]
  },
  {
   "cell_type": "code",
   "execution_count": 7,
   "metadata": {},
   "outputs": [],
   "source": [
    "# Adecuo los valores de la columna adddress para hacer una búsqueda efectiva de los zip codes\n",
    "mitula[\"address\"] = mitula[\"address\"].apply(lambda x: x.lower()\\\n",
    "                                                        .replace(\"á\", \"a\")\\\n",
    "                                                        .replace(\"é\", \"e\")\\\n",
    "                                                        .replace(\"í\", \"i\")\\\n",
    "                                                        .replace(\"ó\", \"o\")\\\n",
    "                                                        .replace(\"ú\", \"u\"))\n",
    "mitula[\"address\"] = mitula[\"address\"].str.replace(\"1ra secc\", \"1a secc\")"
   ]
  },
  {
   "cell_type": "markdown",
   "metadata": {},
   "source": [
    "### Creando la columna zip_code"
   ]
  },
  {
   "cell_type": "code",
   "execution_count": 8,
   "metadata": {},
   "outputs": [],
   "source": [
    "# Leo la tabla de códigos postales\n",
    "tabla_CP = pd.read_html(\"https://codigo-postal.co/mexico/oaxaca/oaxaca-de-juarez/\")\n",
    "tabla_CP = tabla_CP[0]\n",
    "\n",
    "# Seleccionar las columas que me sirven \n",
    "tabla_CP = tabla_CP.iloc[:, :2]\n",
    "tabla_CP = tabla_CP.drop_duplicates(ignore_index=True)\n",
    "\n",
    "# Guardar en listas las colonias y sus C.P.\n",
    "cp = list(tabla_CP.iloc[:, 0])\n",
    "direccion = list(tabla_CP.iloc[:, 1])\n",
    "\n",
    "# Crear un diccionario y Eliminar acentos de los nombres de las direcciones\n",
    "cp_dict = {}\n",
    "for i, j in zip(direccion, cp):\n",
    "    cp_dict[i.lower()\\\n",
    "        .replace(\"á\", \"a\")\\\n",
    "        .replace(\"é\", \"e\")\\\n",
    "        .replace(\"í\", \"i\")\\\n",
    "        .replace(\"ó\", \"o\")\\\n",
    "        .replace(\"ú\", \"u\")] = j"
   ]
  },
  {
   "cell_type": "code",
   "execution_count": 9,
   "metadata": {},
   "outputs": [],
   "source": [
    "# Creo una función que asigna el zip code según la dirección\n",
    "def buscador_zip_code(lista, diccionario):\n",
    "    lista_coincidencias = []\n",
    "    for i in lista:\n",
    "        if (i.strip() == 'oaxaca'):\n",
    "            pass\n",
    "        else:\n",
    "            regex = re.compile(fr\"(.{{0,30}}{i.strip()}.{{0,30}})\", re.IGNORECASE)\n",
    "            coincidencia = list(filter(lambda x: regex.findall(x), diccionario.keys()))\n",
    "            if len(coincidencia) > 0:\n",
    "                lista_coincidencias.append(coincidencia[0])\n",
    "    try:\n",
    "        return diccionario[\"\".join(lista_coincidencias[0])]\n",
    "    except:\n",
    "        None"
   ]
  },
  {
   "cell_type": "code",
   "execution_count": 10,
   "metadata": {},
   "outputs": [],
   "source": [
    "mitula[\"zip_code\"] = mitula[\"address\"].apply(lambda x: x.split(\",\"))\n",
    "mitula[\"zip_code\"] = mitula[\"zip_code\"].apply(buscador_zip_code, diccionario=cp_dict)"
   ]
  },
  {
   "cell_type": "code",
   "execution_count": 11,
   "metadata": {},
   "outputs": [
    {
     "name": "stdout",
     "output_type": "stream",
     "text": [
      "<class 'pandas.core.frame.DataFrame'>\n",
      "RangeIndex: 74 entries, 0 to 73\n",
      "Data columns (total 11 columns):\n",
      " #   Column         Non-Null Count  Dtype  \n",
      "---  ------         --------------  -----  \n",
      " 0   title          74 non-null     object \n",
      " 1   seller         74 non-null     object \n",
      " 2   property_type  74 non-null     object \n",
      " 3   address        74 non-null     object \n",
      " 4   price          74 non-null     int64  \n",
      " 5   bedrooms       74 non-null     float64\n",
      " 6   bathrooms      74 non-null     float64\n",
      " 7   built_area     74 non-null     float64\n",
      " 8   land_area      74 non-null     float64\n",
      " 9   description    74 non-null     object \n",
      " 10  zip_code       72 non-null     float64\n",
      "dtypes: float64(5), int64(1), object(5)\n",
      "memory usage: 6.5+ KB\n"
     ]
    }
   ],
   "source": [
    "# Existen dos filas con valores nulos en la columna zip_code\n",
    "mitula.info()"
   ]
  },
  {
   "cell_type": "code",
   "execution_count": 12,
   "metadata": {},
   "outputs": [],
   "source": [
    "# Se eliminan los valores nulos\n",
    "mitula = mitula.dropna(ignore_index=True)"
   ]
  },
  {
   "cell_type": "markdown",
   "metadata": {},
   "source": [
    "### Creando la columna parking"
   ]
  },
  {
   "cell_type": "code",
   "execution_count": 13,
   "metadata": {},
   "outputs": [],
   "source": [
    "# Con esta función localizo el texto donde especifica los lugares de estacionamiento en la descripción\n",
    "def econtrar_textos(texto):\n",
    "    regex = r\"(?i)(.{0,10}estacionamientos?.{0,30}|.{0,10}cocheras?.{0,30}|.{0,10}garages?.{0,30}|.{0,10}parkings?.{0,30})\"\n",
    "    expresion = re.findall(regex, texto)\n",
    "    expresion = \"\".join(expresion)\n",
    "    if len(expresion) > 0:\n",
    "        valor_de_celda = expresion\n",
    "    else:\n",
    "        valor_de_celda = \"cero\"\n",
    "    return valor_de_celda"
   ]
  },
  {
   "cell_type": "code",
   "execution_count": 14,
   "metadata": {},
   "outputs": [],
   "source": [
    "# Función para encontrar en la descripción el número de lugares de estacionamiento\n",
    "def asignar_valor_estacionamiento(texto):\n",
    "    # Buscar dígitos numéricos en el texto\n",
    "    if texto != \"cero\":    \n",
    "        numeros_encontrados = re.findall(r'\\d+', texto)\n",
    "\n",
    "        if numeros_encontrados:\n",
    "            # Tomar el primer número encontrado y convertirlo a entero\n",
    "            return int(numeros_encontrados[0])\n",
    "        elif \"para dos\" in texto.lower():\n",
    "            return 2\n",
    "        elif \"para tres\" in texto.lower():\n",
    "            return 3\n",
    "        elif \"para cuatro\" in texto.lower():\n",
    "            return 4\n",
    "        elif \"para cinco\" in texto.lower():\n",
    "            return 5\n",
    "        else:\n",
    "            return 1"
   ]
  },
  {
   "cell_type": "code",
   "execution_count": 15,
   "metadata": {},
   "outputs": [],
   "source": [
    "# Aplicar las funciones para buscar los valores de parking\n",
    "mitula[\"parking\"] = mitula[\"description\"].apply(econtrar_textos)\n",
    "mitula[\"parking\"] = mitula[\"parking\"].apply(asignar_valor_estacionamiento)"
   ]
  },
  {
   "cell_type": "code",
   "execution_count": 16,
   "metadata": {},
   "outputs": [
    {
     "name": "stdout",
     "output_type": "stream",
     "text": [
      "<class 'pandas.core.frame.DataFrame'>\n",
      "RangeIndex: 72 entries, 0 to 71\n",
      "Data columns (total 12 columns):\n",
      " #   Column         Non-Null Count  Dtype  \n",
      "---  ------         --------------  -----  \n",
      " 0   title          72 non-null     object \n",
      " 1   seller         72 non-null     object \n",
      " 2   property_type  72 non-null     object \n",
      " 3   address        72 non-null     object \n",
      " 4   price          72 non-null     int64  \n",
      " 5   bedrooms       72 non-null     float64\n",
      " 6   bathrooms      72 non-null     float64\n",
      " 7   built_area     72 non-null     float64\n",
      " 8   land_area      72 non-null     float64\n",
      " 9   description    72 non-null     object \n",
      " 10  zip_code       72 non-null     float64\n",
      " 11  parking        49 non-null     float64\n",
      "dtypes: float64(6), int64(1), object(5)\n",
      "memory usage: 6.9+ KB\n"
     ]
    }
   ],
   "source": [
    "# Se tienen algunos valores nulos en la columna parking\n",
    "mitula.info()"
   ]
  },
  {
   "cell_type": "code",
   "execution_count": 17,
   "metadata": {},
   "outputs": [
    {
     "data": {
      "text/html": [
       "<div>\n",
       "<style scoped>\n",
       "    .dataframe tbody tr th:only-of-type {\n",
       "        vertical-align: middle;\n",
       "    }\n",
       "\n",
       "    .dataframe tbody tr th {\n",
       "        vertical-align: top;\n",
       "    }\n",
       "\n",
       "    .dataframe thead th {\n",
       "        text-align: right;\n",
       "    }\n",
       "</style>\n",
       "<table border=\"1\" class=\"dataframe\">\n",
       "  <thead>\n",
       "    <tr style=\"text-align: right;\">\n",
       "      <th></th>\n",
       "      <th>title</th>\n",
       "      <th>seller</th>\n",
       "      <th>property_type</th>\n",
       "      <th>address</th>\n",
       "      <th>price</th>\n",
       "      <th>bedrooms</th>\n",
       "      <th>bathrooms</th>\n",
       "      <th>built_area</th>\n",
       "      <th>land_area</th>\n",
       "      <th>description</th>\n",
       "      <th>zip_code</th>\n",
       "      <th>parking</th>\n",
       "    </tr>\n",
       "  </thead>\n",
       "  <tbody>\n",
       "    <tr>\n",
       "      <th>53</th>\n",
       "      <td>ATENCION INVERSIONISTAS - (3)</td>\n",
       "      <td>Mitula</td>\n",
       "      <td>Casa</td>\n",
       "      <td>oaxaca, oaxaca, benito juarez</td>\n",
       "      <td>13000000</td>\n",
       "      <td>1.0</td>\n",
       "      <td>1.0</td>\n",
       "      <td>890.0</td>\n",
       "      <td>1225.0</td>\n",
       "      <td>Atención inversionistasRemax Cantera propone c...</td>\n",
       "      <td>68030.0</td>\n",
       "      <td>NaN</td>\n",
       "    </tr>\n",
       "    <tr>\n",
       "      <th>4</th>\n",
       "      <td>Casa en Venta de un Nivel 2 Recamaras en San F...</td>\n",
       "      <td>Mitula</td>\n",
       "      <td>Casa</td>\n",
       "      <td>piedra de sal, agencia municipal de san felipe...</td>\n",
       "      <td>7200000</td>\n",
       "      <td>2.0</td>\n",
       "      <td>1.0</td>\n",
       "      <td>150.0</td>\n",
       "      <td>938.0</td>\n",
       "      <td>Casa habitación rustica campirana en un solo n...</td>\n",
       "      <td>68276.0</td>\n",
       "      <td>NaN</td>\n",
       "    </tr>\n",
       "    <tr>\n",
       "      <th>54</th>\n",
       "      <td>PROPIEDAD CON 6 DEPARTAMENTOS Y CASA - (3)</td>\n",
       "      <td>Mitula</td>\n",
       "      <td>Casa</td>\n",
       "      <td>oaxaca, oaxaca, reforma</td>\n",
       "      <td>30000000</td>\n",
       "      <td>10.0</td>\n",
       "      <td>10.0</td>\n",
       "      <td>760.0</td>\n",
       "      <td>839.0</td>\n",
       "      <td>PROPIEDAD MUY BIEN UBICADA CON 6 DEPARTAMENTOS...</td>\n",
       "      <td>68050.0</td>\n",
       "      <td>1.0</td>\n",
       "    </tr>\n",
       "    <tr>\n",
       "      <th>62</th>\n",
       "      <td>CASA EN VENTA CON LOCALES COMERCIALES  - (3)</td>\n",
       "      <td>Mitula</td>\n",
       "      <td>Casa</td>\n",
       "      <td>oaxaca, oaxaca, oaxaca centro</td>\n",
       "      <td>20450000</td>\n",
       "      <td>5.0</td>\n",
       "      <td>4.0</td>\n",
       "      <td>407.0</td>\n",
       "      <td>545.0</td>\n",
       "      <td>CASA HABITACION CON DISTRIBUIDOR, DESAYUNADOR,...</td>\n",
       "      <td>68000.0</td>\n",
       "      <td>NaN</td>\n",
       "    </tr>\n",
       "    <tr>\n",
       "      <th>44</th>\n",
       "      <td>CASA EN VENTA CON LOCALES COMERCIALES  - (3)</td>\n",
       "      <td>Mitula</td>\n",
       "      <td>Casa</td>\n",
       "      <td>oaxaca, oaxaca, oaxaca centro</td>\n",
       "      <td>20450000</td>\n",
       "      <td>5.0</td>\n",
       "      <td>4.0</td>\n",
       "      <td>407.0</td>\n",
       "      <td>545.0</td>\n",
       "      <td>CASA HABITACION CON DISTRIBUIDOR, DESAYUNADOR,...</td>\n",
       "      <td>68000.0</td>\n",
       "      <td>NaN</td>\n",
       "    </tr>\n",
       "  </tbody>\n",
       "</table>\n",
       "</div>"
      ],
      "text/plain": [
       "                                                title  seller property_type  \\\n",
       "53                      ATENCION INVERSIONISTAS - (3)  Mitula          Casa   \n",
       "4   Casa en Venta de un Nivel 2 Recamaras en San F...  Mitula          Casa   \n",
       "54         PROPIEDAD CON 6 DEPARTAMENTOS Y CASA - (3)  Mitula          Casa   \n",
       "62       CASA EN VENTA CON LOCALES COMERCIALES  - (3)  Mitula          Casa   \n",
       "44       CASA EN VENTA CON LOCALES COMERCIALES  - (3)  Mitula          Casa   \n",
       "\n",
       "                                              address     price  bedrooms  \\\n",
       "53                      oaxaca, oaxaca, benito juarez  13000000       1.0   \n",
       "4   piedra de sal, agencia municipal de san felipe...   7200000       2.0   \n",
       "54                            oaxaca, oaxaca, reforma  30000000      10.0   \n",
       "62                      oaxaca, oaxaca, oaxaca centro  20450000       5.0   \n",
       "44                      oaxaca, oaxaca, oaxaca centro  20450000       5.0   \n",
       "\n",
       "    bathrooms  built_area  land_area  \\\n",
       "53        1.0       890.0     1225.0   \n",
       "4         1.0       150.0      938.0   \n",
       "54       10.0       760.0      839.0   \n",
       "62        4.0       407.0      545.0   \n",
       "44        4.0       407.0      545.0   \n",
       "\n",
       "                                          description  zip_code  parking  \n",
       "53  Atención inversionistasRemax Cantera propone c...   68030.0      NaN  \n",
       "4   Casa habitación rustica campirana en un solo n...   68276.0      NaN  \n",
       "54  PROPIEDAD MUY BIEN UBICADA CON 6 DEPARTAMENTOS...   68050.0      1.0  \n",
       "62  CASA HABITACION CON DISTRIBUIDOR, DESAYUNADOR,...   68000.0      NaN  \n",
       "44  CASA HABITACION CON DISTRIBUIDOR, DESAYUNADOR,...   68000.0      NaN  "
      ]
     },
     "execution_count": 17,
     "metadata": {},
     "output_type": "execute_result"
    }
   ],
   "source": [
    "# Una de las propiedades es un conjunto de departamentos\n",
    "# y no corresponde a la misma naturaleza que el resto de casas\n",
    "mitula.sort_values(by=\"land_area\", ascending=False).head(5)"
   ]
  },
  {
   "cell_type": "code",
   "execution_count": 18,
   "metadata": {},
   "outputs": [],
   "source": [
    "# Se elimina la propiedad que no corresponde a una casa\n",
    "# sino a un conjunto de locales\n",
    "no_casa = list(mitula[mitula[\"title\"].str.contains(\"propiedad con 6 departamentos y casa\", case=False)].index)\n",
    "mitula = mitula.drop(index=no_casa)\n",
    "mitula = mitula.drop_duplicates()\n",
    "mitula = mitula.reset_index(drop=\"first\")"
   ]
  },
  {
   "cell_type": "code",
   "execution_count": 19,
   "metadata": {},
   "outputs": [],
   "source": [
    "# Se corrijen los valores de las columnas bedrooms y bathrooms de la fila con \n",
    "# el valor de land_area más grande ya que la información que aparece en las columnas\n",
    "# no se corresponde con su descripción\n",
    "max_land_area = list(mitula.query(\"price==13000000 & land_area==1225.0\").index)\n",
    "mitula.loc[max_land_area, \"bedrooms\"] = 10\n",
    "mitula.loc[max_land_area, \"bathrooms\"] = 9"
   ]
  },
  {
   "cell_type": "code",
   "execution_count": 20,
   "metadata": {},
   "outputs": [
    {
     "name": "stdout",
     "output_type": "stream",
     "text": [
      "<class 'pandas.core.frame.DataFrame'>\n",
      "RangeIndex: 62 entries, 0 to 61\n",
      "Data columns (total 12 columns):\n",
      " #   Column         Non-Null Count  Dtype  \n",
      "---  ------         --------------  -----  \n",
      " 0   title          62 non-null     object \n",
      " 1   seller         62 non-null     object \n",
      " 2   property_type  62 non-null     object \n",
      " 3   address        62 non-null     object \n",
      " 4   price          62 non-null     int64  \n",
      " 5   bedrooms       62 non-null     float64\n",
      " 6   bathrooms      62 non-null     float64\n",
      " 7   built_area     62 non-null     float64\n",
      " 8   land_area      62 non-null     float64\n",
      " 9   description    62 non-null     object \n",
      " 10  zip_code       62 non-null     float64\n",
      " 11  parking        43 non-null     float64\n",
      "dtypes: float64(6), int64(1), object(5)\n",
      "memory usage: 5.9+ KB\n"
     ]
    }
   ],
   "source": [
    "mitula.info()"
   ]
  },
  {
   "cell_type": "code",
   "execution_count": 21,
   "metadata": {},
   "outputs": [],
   "source": [
    "mitula.to_csv(\"datos_mitula.csv\", index=False)"
   ]
  }
 ],
 "metadata": {
  "kernelspec": {
   "display_name": "venv",
   "language": "python",
   "name": "python3"
  },
  "language_info": {
   "codemirror_mode": {
    "name": "ipython",
    "version": 3
   },
   "file_extension": ".py",
   "mimetype": "text/x-python",
   "name": "python",
   "nbconvert_exporter": "python",
   "pygments_lexer": "ipython3",
   "version": "3.9.7"
  },
  "orig_nbformat": 4
 },
 "nbformat": 4,
 "nbformat_minor": 2
}
