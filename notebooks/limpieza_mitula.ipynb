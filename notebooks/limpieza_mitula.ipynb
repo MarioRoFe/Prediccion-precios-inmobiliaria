{
 "cells": [
  {
   "cell_type": "code",
   "execution_count": 25,
   "metadata": {},
   "outputs": [],
   "source": [
    "import pandas as pd\n",
    "import re"
   ]
  },
  {
   "cell_type": "code",
   "execution_count": 26,
   "metadata": {},
   "outputs": [],
   "source": [
    "mitula = pd.read_csv(\"/home/mario/Proyectos_Mario/proyecto_alonso/datos_extraidos/casas_mitula.csv\")"
   ]
  },
  {
   "cell_type": "code",
   "execution_count": 27,
   "metadata": {},
   "outputs": [],
   "source": [
    "# Se eliminan todas las casas que tienen un remate bancario o hipotecario\n",
    "# ya que no representan el valor real \n",
    "casas_remate = list(mitula[mitula.description.str.contains(\"remate|bancaria|recuperación|hipotecaria\", case=False)].index)\n",
    "mitula = mitula.drop(index=casas_remate)\n",
    "mitula = mitula.reset_index(drop=\"first\")"
   ]
  },
  {
   "cell_type": "code",
   "execution_count": 28,
   "metadata": {},
   "outputs": [
    {
     "name": "stdout",
     "output_type": "stream",
     "text": [
      "<class 'pandas.core.frame.DataFrame'>\n",
      "RangeIndex: 108 entries, 0 to 107\n",
      "Data columns (total 11 columns):\n",
      " #   Column            Non-Null Count  Dtype  \n",
      "---  ------            --------------  -----  \n",
      " 0   title             108 non-null    object \n",
      " 1   seller            108 non-null    object \n",
      " 2   property_type     108 non-null    object \n",
      " 3   address           108 non-null    object \n",
      " 4   price             108 non-null    int64  \n",
      " 5   bedrooms          93 non-null     float64\n",
      " 6   bathrooms         93 non-null     float64\n",
      " 7   built_area        89 non-null     float64\n",
      " 8   land_area         91 non-null     float64\n",
      " 9   description       108 non-null    object \n",
      " 10  publication_date  108 non-null    object \n",
      "dtypes: float64(4), int64(1), object(6)\n",
      "memory usage: 9.4+ KB\n"
     ]
    }
   ],
   "source": [
    "# Hay columnas con datos nulos\n",
    "mitula.info()"
   ]
  },
  {
   "cell_type": "code",
   "execution_count": 29,
   "metadata": {},
   "outputs": [
    {
     "data": {
      "text/plain": [
       "array(['Casa', 'Terreno', 'Locales Comerciales', 'Villa',\n",
       "       'Casas En Condominios', 'Edificio'], dtype=object)"
      ]
     },
     "execution_count": 29,
     "metadata": {},
     "output_type": "execute_result"
    }
   ],
   "source": [
    "# Al parecer todos los datos pertenecen a casas\n",
    "mitula.property_type.unique()"
   ]
  },
  {
   "cell_type": "code",
   "execution_count": 30,
   "metadata": {},
   "outputs": [],
   "source": [
    "# Se eliminan los datos nulos\n",
    "mitula = mitula.dropna(ignore_index=True)"
   ]
  },
  {
   "cell_type": "code",
   "execution_count": 31,
   "metadata": {},
   "outputs": [],
   "source": [
    "# Adecuo los valores de la columna adddress para hacer una búsqueda efectiva de los zip codes\n",
    "mitula[\"address\"] = mitula[\"address\"].apply(lambda x: x.lower()\\\n",
    "                                                        .replace(\"á\", \"a\")\\\n",
    "                                                        .replace(\"é\", \"e\")\\\n",
    "                                                        .replace(\"í\", \"i\")\\\n",
    "                                                        .replace(\"ó\", \"o\")\\\n",
    "                                                        .replace(\"ú\", \"u\"))\n",
    "mitula[\"address\"] = mitula[\"address\"].str.replace(\"1ra secc\", \"1a secc\")"
   ]
  },
  {
   "cell_type": "markdown",
   "metadata": {},
   "source": [
    "### Creando la columna zip_code"
   ]
  },
  {
   "cell_type": "code",
   "execution_count": 32,
   "metadata": {},
   "outputs": [],
   "source": [
    "# Leo la tabla de códigos postales\n",
    "tabla_CP = pd.read_html(\"https://codigo-postal.co/mexico/oaxaca/oaxaca-de-juarez/\")\n",
    "tabla_CP = tabla_CP[0]\n",
    "\n",
    "# Seleccionar las columas que me sirven \n",
    "tabla_CP = tabla_CP.iloc[:, :2]\n",
    "tabla_CP = tabla_CP.drop_duplicates(ignore_index=True)\n",
    "\n",
    "# Guardar en listas las colonias y sus C.P.\n",
    "cp = list(tabla_CP.iloc[:, 0])\n",
    "direccion = list(tabla_CP.iloc[:, 1])\n",
    "\n",
    "# Crear un diccionario y Eliminar acentos de los nombres de las direcciones\n",
    "cp_dict = {}\n",
    "for i, j in zip(direccion, cp):\n",
    "    cp_dict[i.lower()\\\n",
    "        .replace(\"á\", \"a\")\\\n",
    "        .replace(\"é\", \"e\")\\\n",
    "        .replace(\"í\", \"i\")\\\n",
    "        .replace(\"ó\", \"o\")\\\n",
    "        .replace(\"ú\", \"u\")] = j"
   ]
  },
  {
   "cell_type": "code",
   "execution_count": 33,
   "metadata": {},
   "outputs": [],
   "source": [
    "# Creo una función que asigna el zip code según la dirección\n",
    "def buscador_zip_code(lista, diccionario):\n",
    "    lista_coincidencias = []\n",
    "    for i in lista:\n",
    "        if (i.strip() == 'oaxaca'):\n",
    "            pass\n",
    "        else:\n",
    "            regex = re.compile(fr\"(.{{0,30}}{i.strip()}.{{0,30}})\", re.IGNORECASE)\n",
    "            coincidencia = list(filter(lambda x: regex.findall(x), diccionario.keys()))\n",
    "            if len(coincidencia) > 0:\n",
    "                lista_coincidencias.append(coincidencia[0])\n",
    "    try:\n",
    "        return diccionario[\"\".join(lista_coincidencias[0])]\n",
    "    except:\n",
    "        None"
   ]
  },
  {
   "cell_type": "code",
   "execution_count": 34,
   "metadata": {},
   "outputs": [],
   "source": [
    "mitula[\"zip_code\"] = mitula[\"address\"].apply(lambda x: x.split(\",\"))\n",
    "mitula[\"zip_code\"] = mitula[\"zip_code\"].apply(buscador_zip_code, diccionario=cp_dict)"
   ]
  },
  {
   "cell_type": "code",
   "execution_count": 35,
   "metadata": {},
   "outputs": [
    {
     "name": "stdout",
     "output_type": "stream",
     "text": [
      "<class 'pandas.core.frame.DataFrame'>\n",
      "RangeIndex: 74 entries, 0 to 73\n",
      "Data columns (total 12 columns):\n",
      " #   Column            Non-Null Count  Dtype  \n",
      "---  ------            --------------  -----  \n",
      " 0   title             74 non-null     object \n",
      " 1   seller            74 non-null     object \n",
      " 2   property_type     74 non-null     object \n",
      " 3   address           74 non-null     object \n",
      " 4   price             74 non-null     int64  \n",
      " 5   bedrooms          74 non-null     float64\n",
      " 6   bathrooms         74 non-null     float64\n",
      " 7   built_area        74 non-null     float64\n",
      " 8   land_area         74 non-null     float64\n",
      " 9   description       74 non-null     object \n",
      " 10  publication_date  74 non-null     object \n",
      " 11  zip_code          72 non-null     float64\n",
      "dtypes: float64(5), int64(1), object(6)\n",
      "memory usage: 7.1+ KB\n"
     ]
    }
   ],
   "source": [
    "# Existen dos filas con valores nulos en la columna zip_code\n",
    "mitula.info()"
   ]
  },
  {
   "cell_type": "code",
   "execution_count": 36,
   "metadata": {},
   "outputs": [],
   "source": [
    "# Se eliminan los valores nulos\n",
    "mitula = mitula.dropna(ignore_index=True)"
   ]
  },
  {
   "cell_type": "markdown",
   "metadata": {},
   "source": [
    "### Creando la columna parking"
   ]
  },
  {
   "cell_type": "code",
   "execution_count": 37,
   "metadata": {},
   "outputs": [],
   "source": [
    "# Con esta función localizo el texto donde especifica los lugares de estacionamiento en la descripción\n",
    "def econtrar_textos(texto):\n",
    "    regex = r\"(?i)(.{0,10}estacionamientos?.{0,30}|.{0,10}cocheras?.{0,30}|.{0,10}garages?.{0,30}|.{0,10}parkings?.{0,30})\"\n",
    "    expresion = re.findall(regex, texto)\n",
    "    expresion = \"\".join(expresion)\n",
    "    if len(expresion) > 0:\n",
    "        valor_de_celda = expresion\n",
    "    else:\n",
    "        valor_de_celda = \"cero\"\n",
    "    return valor_de_celda"
   ]
  },
  {
   "cell_type": "code",
   "execution_count": 38,
   "metadata": {},
   "outputs": [],
   "source": [
    "# Función para encontrar en la descripción el número de lugares de estacionamiento\n",
    "def asignar_valor_estacionamiento(texto):\n",
    "    # Buscar dígitos numéricos en el texto\n",
    "    if texto != \"cero\":    \n",
    "        numeros_encontrados = re.findall(r'\\d+', texto)\n",
    "\n",
    "        if numeros_encontrados:\n",
    "            # Tomar el primer número encontrado y convertirlo a entero\n",
    "            return int(numeros_encontrados[0])\n",
    "        elif \"para dos\" in texto.lower():\n",
    "            return 2\n",
    "        elif \"para tres\" in texto.lower():\n",
    "            return 3\n",
    "        elif \"para cuatro\" in texto.lower():\n",
    "            return 4\n",
    "        elif \"para cinco\" in texto.lower():\n",
    "            return 5\n",
    "        else:\n",
    "            return 1"
   ]
  },
  {
   "cell_type": "code",
   "execution_count": 39,
   "metadata": {},
   "outputs": [],
   "source": [
    "# Aplicar las funciones para buscar los valores de parking\n",
    "mitula[\"parking\"] = mitula[\"description\"].apply(econtrar_textos)\n",
    "mitula[\"parking\"] = mitula[\"parking\"].apply(asignar_valor_estacionamiento)"
   ]
  },
  {
   "cell_type": "code",
   "execution_count": 40,
   "metadata": {},
   "outputs": [
    {
     "name": "stdout",
     "output_type": "stream",
     "text": [
      "<class 'pandas.core.frame.DataFrame'>\n",
      "RangeIndex: 72 entries, 0 to 71\n",
      "Data columns (total 13 columns):\n",
      " #   Column            Non-Null Count  Dtype  \n",
      "---  ------            --------------  -----  \n",
      " 0   title             72 non-null     object \n",
      " 1   seller            72 non-null     object \n",
      " 2   property_type     72 non-null     object \n",
      " 3   address           72 non-null     object \n",
      " 4   price             72 non-null     int64  \n",
      " 5   bedrooms          72 non-null     float64\n",
      " 6   bathrooms         72 non-null     float64\n",
      " 7   built_area        72 non-null     float64\n",
      " 8   land_area         72 non-null     float64\n",
      " 9   description       72 non-null     object \n",
      " 10  publication_date  72 non-null     object \n",
      " 11  zip_code          72 non-null     float64\n",
      " 12  parking           49 non-null     float64\n",
      "dtypes: float64(6), int64(1), object(6)\n",
      "memory usage: 7.4+ KB\n"
     ]
    }
   ],
   "source": [
    "# Se tienen algunos valores nulos en la columna parking\n",
    "mitula.info()"
   ]
  },
  {
   "cell_type": "code",
   "execution_count": 41,
   "metadata": {},
   "outputs": [],
   "source": [
    "# Se eliminan los valores nulos\n",
    "mitula = mitula.dropna(ignore_index=True)"
   ]
  },
  {
   "cell_type": "code",
   "execution_count": 42,
   "metadata": {},
   "outputs": [
    {
     "data": {
      "text/html": [
       "<div>\n",
       "<style scoped>\n",
       "    .dataframe tbody tr th:only-of-type {\n",
       "        vertical-align: middle;\n",
       "    }\n",
       "\n",
       "    .dataframe tbody tr th {\n",
       "        vertical-align: top;\n",
       "    }\n",
       "\n",
       "    .dataframe thead th {\n",
       "        text-align: right;\n",
       "    }\n",
       "</style>\n",
       "<table border=\"1\" class=\"dataframe\">\n",
       "  <thead>\n",
       "    <tr style=\"text-align: right;\">\n",
       "      <th></th>\n",
       "      <th>title</th>\n",
       "      <th>seller</th>\n",
       "      <th>property_type</th>\n",
       "      <th>address</th>\n",
       "      <th>price</th>\n",
       "      <th>bedrooms</th>\n",
       "      <th>bathrooms</th>\n",
       "      <th>built_area</th>\n",
       "      <th>land_area</th>\n",
       "      <th>description</th>\n",
       "      <th>publication_date</th>\n",
       "      <th>zip_code</th>\n",
       "      <th>parking</th>\n",
       "    </tr>\n",
       "  </thead>\n",
       "  <tbody>\n",
       "    <tr>\n",
       "      <th>35</th>\n",
       "      <td>PROPIEDAD CON 6 DEPARTAMENTOS Y CASA - (3)</td>\n",
       "      <td>Mitula</td>\n",
       "      <td>Casa</td>\n",
       "      <td>oaxaca, oaxaca, reforma</td>\n",
       "      <td>30000000</td>\n",
       "      <td>10.0</td>\n",
       "      <td>10.0</td>\n",
       "      <td>760.0</td>\n",
       "      <td>839.0</td>\n",
       "      <td>PROPIEDAD MUY BIEN UBICADA CON 6 DEPARTAMENTOS...</td>\n",
       "      <td>Hace 2 semanas, 3 días - Publicado por REMAX c...</td>\n",
       "      <td>68050.0</td>\n",
       "      <td>1.0</td>\n",
       "    </tr>\n",
       "    <tr>\n",
       "      <th>36</th>\n",
       "      <td>Casa en Venta en la Colonia Volcanes - (3)</td>\n",
       "      <td>Mitula</td>\n",
       "      <td>Casa</td>\n",
       "      <td>oaxaca, oaxaca, volcanes</td>\n",
       "      <td>7400000</td>\n",
       "      <td>6.0</td>\n",
       "      <td>4.0</td>\n",
       "      <td>350.0</td>\n",
       "      <td>366.0</td>\n",
       "      <td>Propiedad en la colonia Volcanes, Oaxaca, cuen...</td>\n",
       "      <td>1 jun 2023 - Publicado por REMAX cantera</td>\n",
       "      <td>68020.0</td>\n",
       "      <td>5.0</td>\n",
       "    </tr>\n",
       "    <tr>\n",
       "      <th>30</th>\n",
       "      <td>VENTA DE CASA EN FRAMBOYANES, OAXACA.</td>\n",
       "      <td>Mitula</td>\n",
       "      <td>Casa</td>\n",
       "      <td>trinidad de las huertas, oaxaca de juarez, oax...</td>\n",
       "      <td>630000</td>\n",
       "      <td>3.0</td>\n",
       "      <td>2.0</td>\n",
       "      <td>400.0</td>\n",
       "      <td>335.0</td>\n",
       "      <td>MAGNIFICA OPORTUNIDAD DE ADQUIRIR BONITA CASA ...</td>\n",
       "      <td>Hace 1 semana, 2 días - Publicado por Peza Con...</td>\n",
       "      <td>68080.0</td>\n",
       "      <td>1.0</td>\n",
       "    </tr>\n",
       "    <tr>\n",
       "      <th>47</th>\n",
       "      <td>AMPLIA CASA EN ZONA NORTE VENTA A 10 MIN DEL C...</td>\n",
       "      <td>Mitula</td>\n",
       "      <td>Casa</td>\n",
       "      <td>volcanes, oaxaca de juarez, oaxaca, mexico</td>\n",
       "      <td>4700000</td>\n",
       "      <td>3.0</td>\n",
       "      <td>1.0</td>\n",
       "      <td>203.0</td>\n",
       "      <td>322.0</td>\n",
       "      <td>AMPLIA CASA EN ZONA NORTE EN VENTAMuy cerca de...</td>\n",
       "      <td>26 abr 2023 - Publicado por AGENTES DE BIENES ...</td>\n",
       "      <td>68020.0</td>\n",
       "      <td>4.0</td>\n",
       "    </tr>\n",
       "    <tr>\n",
       "      <th>45</th>\n",
       "      <td>VENTA DE CASA EN GUADALUPE VICTORIA, OAXACA, O...</td>\n",
       "      <td>Mitula</td>\n",
       "      <td>Casa</td>\n",
       "      <td>macedonio alcala, guadalupe victoria, oaxaca d...</td>\n",
       "      <td>560000</td>\n",
       "      <td>3.0</td>\n",
       "      <td>2.0</td>\n",
       "      <td>250.0</td>\n",
       "      <td>300.0</td>\n",
       "      <td>Hermosa propiedad en venta.La propiedad consta...</td>\n",
       "      <td>Hace 2 semanas, 4 días - Publicado por GP SERV...</td>\n",
       "      <td>68033.0</td>\n",
       "      <td>1.0</td>\n",
       "    </tr>\n",
       "  </tbody>\n",
       "</table>\n",
       "</div>"
      ],
      "text/plain": [
       "                                                title  seller property_type  \\\n",
       "35         PROPIEDAD CON 6 DEPARTAMENTOS Y CASA - (3)  Mitula          Casa   \n",
       "36         Casa en Venta en la Colonia Volcanes - (3)  Mitula          Casa   \n",
       "30              VENTA DE CASA EN FRAMBOYANES, OAXACA.  Mitula          Casa   \n",
       "47  AMPLIA CASA EN ZONA NORTE VENTA A 10 MIN DEL C...  Mitula          Casa   \n",
       "45  VENTA DE CASA EN GUADALUPE VICTORIA, OAXACA, O...  Mitula          Casa   \n",
       "\n",
       "                                              address     price  bedrooms  \\\n",
       "35                            oaxaca, oaxaca, reforma  30000000      10.0   \n",
       "36                           oaxaca, oaxaca, volcanes   7400000       6.0   \n",
       "30  trinidad de las huertas, oaxaca de juarez, oax...    630000       3.0   \n",
       "47         volcanes, oaxaca de juarez, oaxaca, mexico   4700000       3.0   \n",
       "45  macedonio alcala, guadalupe victoria, oaxaca d...    560000       3.0   \n",
       "\n",
       "    bathrooms  built_area  land_area  \\\n",
       "35       10.0       760.0      839.0   \n",
       "36        4.0       350.0      366.0   \n",
       "30        2.0       400.0      335.0   \n",
       "47        1.0       203.0      322.0   \n",
       "45        2.0       250.0      300.0   \n",
       "\n",
       "                                          description  \\\n",
       "35  PROPIEDAD MUY BIEN UBICADA CON 6 DEPARTAMENTOS...   \n",
       "36  Propiedad en la colonia Volcanes, Oaxaca, cuen...   \n",
       "30  MAGNIFICA OPORTUNIDAD DE ADQUIRIR BONITA CASA ...   \n",
       "47  AMPLIA CASA EN ZONA NORTE EN VENTAMuy cerca de...   \n",
       "45  Hermosa propiedad en venta.La propiedad consta...   \n",
       "\n",
       "                                     publication_date  zip_code  parking  \n",
       "35  Hace 2 semanas, 3 días - Publicado por REMAX c...   68050.0      1.0  \n",
       "36           1 jun 2023 - Publicado por REMAX cantera   68020.0      5.0  \n",
       "30  Hace 1 semana, 2 días - Publicado por Peza Con...   68080.0      1.0  \n",
       "47  26 abr 2023 - Publicado por AGENTES DE BIENES ...   68020.0      4.0  \n",
       "45  Hace 2 semanas, 4 días - Publicado por GP SERV...   68033.0      1.0  "
      ]
     },
     "execution_count": 42,
     "metadata": {},
     "output_type": "execute_result"
    }
   ],
   "source": [
    "# El valor de la propiedad con el terreno más grande no es una casa\n",
    "# es un conjunto de departamentos\n",
    "# El resto de proiedades tienen una extensión muy alejada de ésta\n",
    "mitula.sort_values(by=\"land_area\", ascending=False).head(5)"
   ]
  },
  {
   "cell_type": "code",
   "execution_count": 43,
   "metadata": {},
   "outputs": [],
   "source": [
    "# Se elimina la propiedad con el terreno más grande ya que representa \n",
    "# un conjunto de departamentos\n",
    "mitula = mitula.drop(index=mitula.land_area.argmax())\n",
    "mitula = mitula.drop_duplicates()\n",
    "mitula = mitula.reset_index(drop=\"first\")"
   ]
  },
  {
   "cell_type": "code",
   "execution_count": 44,
   "metadata": {},
   "outputs": [
    {
     "name": "stdout",
     "output_type": "stream",
     "text": [
      "<class 'pandas.core.frame.DataFrame'>\n",
      "RangeIndex: 43 entries, 0 to 42\n",
      "Data columns (total 13 columns):\n",
      " #   Column            Non-Null Count  Dtype  \n",
      "---  ------            --------------  -----  \n",
      " 0   title             43 non-null     object \n",
      " 1   seller            43 non-null     object \n",
      " 2   property_type     43 non-null     object \n",
      " 3   address           43 non-null     object \n",
      " 4   price             43 non-null     int64  \n",
      " 5   bedrooms          43 non-null     float64\n",
      " 6   bathrooms         43 non-null     float64\n",
      " 7   built_area        43 non-null     float64\n",
      " 8   land_area         43 non-null     float64\n",
      " 9   description       43 non-null     object \n",
      " 10  publication_date  43 non-null     object \n",
      " 11  zip_code          43 non-null     float64\n",
      " 12  parking           43 non-null     float64\n",
      "dtypes: float64(6), int64(1), object(6)\n",
      "memory usage: 4.5+ KB\n"
     ]
    }
   ],
   "source": [
    "mitula.info()"
   ]
  },
  {
   "cell_type": "code",
   "execution_count": 45,
   "metadata": {},
   "outputs": [],
   "source": [
    "mitula.to_csv(\"datos_mitula.csv\", index=False)"
   ]
  }
 ],
 "metadata": {
  "kernelspec": {
   "display_name": "venv",
   "language": "python",
   "name": "python3"
  },
  "language_info": {
   "codemirror_mode": {
    "name": "ipython",
    "version": 3
   },
   "file_extension": ".py",
   "mimetype": "text/x-python",
   "name": "python",
   "nbconvert_exporter": "python",
   "pygments_lexer": "ipython3",
   "version": "3.9.7"
  },
  "orig_nbformat": 4
 },
 "nbformat": 4,
 "nbformat_minor": 2
}
