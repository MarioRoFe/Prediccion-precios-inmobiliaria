{
 "cells": [
  {
   "cell_type": "code",
   "execution_count": 1,
   "metadata": {},
   "outputs": [],
   "source": [
    "import pandas as pd\n",
    "import re"
   ]
  },
  {
   "cell_type": "code",
   "execution_count": 2,
   "metadata": {},
   "outputs": [],
   "source": [
    "nuroa = pd.read_csv(\"/home/mario/Proyectos_Mario/proyecto_alonso/datos_extraidos/casas_nuroa.csv\")"
   ]
  },
  {
   "cell_type": "code",
   "execution_count": 3,
   "metadata": {},
   "outputs": [
    {
     "name": "stdout",
     "output_type": "stream",
     "text": [
      "<class 'pandas.core.frame.DataFrame'>\n",
      "RangeIndex: 152 entries, 0 to 151\n",
      "Data columns (total 11 columns):\n",
      " #   Column            Non-Null Count  Dtype  \n",
      "---  ------            --------------  -----  \n",
      " 0   title             152 non-null    object \n",
      " 1   seller            152 non-null    object \n",
      " 2   property_type     151 non-null    object \n",
      " 3   address           151 non-null    object \n",
      " 4   price             151 non-null    float64\n",
      " 5   bedrooms          147 non-null    float64\n",
      " 6   bathrooms         145 non-null    float64\n",
      " 7   built_area        129 non-null    float64\n",
      " 8   land_area         123 non-null    float64\n",
      " 9   description       151 non-null    object \n",
      " 10  publication_date  151 non-null    object \n",
      "dtypes: float64(5), object(6)\n",
      "memory usage: 13.2+ KB\n"
     ]
    }
   ],
   "source": [
    "# Se tienen algunos valores nulos \n",
    "nuroa.info()"
   ]
  },
  {
   "cell_type": "code",
   "execution_count": 4,
   "metadata": {},
   "outputs": [],
   "source": [
    "# Se eliminan los valores nulos\n",
    "nuroa = nuroa.dropna()\n",
    "nuroa = nuroa.reset_index(drop=\"first\")"
   ]
  },
  {
   "cell_type": "code",
   "execution_count": 5,
   "metadata": {},
   "outputs": [],
   "source": [
    "# Se eliminan todas las casas que tienen un remate bancario o hipotecario\n",
    "# ya que no representan el valor real \n",
    "casas_remate = list(nuroa[nuroa.description.str.contains(\"remate|bancaria|recuperación|hipotecaria\", case=False)].index)\n",
    "nuroa = nuroa.drop(index=casas_remate)\n",
    "nuroa = nuroa.reset_index(drop=\"first\")"
   ]
  },
  {
   "cell_type": "code",
   "execution_count": 6,
   "metadata": {},
   "outputs": [],
   "source": [
    "# Adecuo los valores de la columna adddress para hacer una búsqueda efectiva de los zip codes\n",
    "nuroa[\"address\"] = nuroa[\"address\"].apply(lambda x: x.lower()\\\n",
    "                                                        .replace(\"á\", \"a\")\\\n",
    "                                                        .replace(\"é\", \"e\")\\\n",
    "                                                        .replace(\"í\", \"i\")\\\n",
    "                                                        .replace(\"ó\", \"o\")\\\n",
    "                                                        .replace(\"ú\", \"u\"))\n",
    "nuroa[\"address\"] = nuroa[\"address\"].apply(lambda x: x.replace(\", oaxaca, oaxaca\", \"\"))\n",
    "nuroa[\"address\"] = nuroa[\"address\"].apply(lambda x: x.replace(\"exhacienda\", \"\"))\n",
    "nuroa[\"address\"] = nuroa[\"address\"].apply(lambda x: x.replace(\"central de\", \"\"))\n",
    "nuroa[\"address\"] = nuroa[\"address\"].apply(lambda x: x.replace(\"fraccionamiento alamos\", \"fraccionamiento los alamos\"))\n",
    "nuroa[\"address\"] = nuroa[\"address\"].apply(lambda x: x.replace(\"res alamos\", \"residencial alamos\"))\n",
    "nuroa[\"address\"] = nuroa[\"address\"].apply(lambda x: x.replace(\"fracc \", \"fraccionamiento \"))\n",
    "nuroa[\"address\"] = nuroa[\"address\"].apply(lambda x: x.replace(\"2da secc\", \"segunda seccion\"))\n",
    "nuroa[\"address\"] = nuroa[\"address\"].apply(lambda x: x.replace(\"lazaro cardenas 1ra secc\", \"lazaro cardenas 1a secc\"))\n",
    "nuroa[\"address\"] = nuroa[\"address\"].apply(lambda x: x.replace(\"unidad hab\", \"unidad habitacional\"))"
   ]
  },
  {
   "cell_type": "markdown",
   "metadata": {},
   "source": [
    "### Creando la columna zip_code"
   ]
  },
  {
   "cell_type": "code",
   "execution_count": 7,
   "metadata": {},
   "outputs": [],
   "source": [
    "# Leo la tabla de códigos postales\n",
    "tabla_CP = pd.read_html(\"https://codigo-postal.co/mexico/oaxaca/oaxaca-de-juarez/\")\n",
    "tabla_CP = tabla_CP[0]\n",
    "\n",
    "# Seleccionar las columas que me sirven \n",
    "tabla_CP = tabla_CP.iloc[:, :2]\n",
    "tabla_CP = tabla_CP.drop_duplicates(ignore_index=True)\n",
    "\n",
    "# Guardar en listas las colonias y sus C.P.\n",
    "cp = list(tabla_CP.iloc[:, 0])\n",
    "direccion = list(tabla_CP.iloc[:, 1])\n",
    "\n",
    "# Crear un diccionario y Eliminar acentos de los nombres de las direcciones\n",
    "cp_dict = {}\n",
    "for i, j in zip(direccion, cp):\n",
    "    cp_dict[i.lower()\\\n",
    "        .replace(\"á\", \"a\")\\\n",
    "        .replace(\"é\", \"e\")\\\n",
    "        .replace(\"í\", \"i\")\\\n",
    "        .replace(\"ó\", \"o\")\\\n",
    "        .replace(\"ú\", \"u\")] = j"
   ]
  },
  {
   "cell_type": "code",
   "execution_count": 8,
   "metadata": {},
   "outputs": [],
   "source": [
    "# Creo una lista con los datos de zip code para cada propiedad\n",
    "cp_column = []\n",
    "for i, d in zip(nuroa.index, nuroa.address):\n",
    "    regex = re.compile(fr\"(.{{0,20}}{d}.{{0,20}})\", re.IGNORECASE)\n",
    "    location_name = list(filter(lambda x: regex.findall(x), cp_dict.keys()))\n",
    "\n",
    "    try:\n",
    "        cp_column.append(cp_dict[location_name[0]])\n",
    "    except:\n",
    "        cp_column.append(None)"
   ]
  },
  {
   "cell_type": "code",
   "execution_count": 9,
   "metadata": {},
   "outputs": [],
   "source": [
    "# Creo la columna zip_code con los valores obtenidos de la iteración\n",
    "nuroa[\"zip_code\"] = cp_column"
   ]
  },
  {
   "cell_type": "code",
   "execution_count": 10,
   "metadata": {},
   "outputs": [
    {
     "name": "stdout",
     "output_type": "stream",
     "text": [
      "<class 'pandas.core.frame.DataFrame'>\n",
      "RangeIndex: 86 entries, 0 to 85\n",
      "Data columns (total 12 columns):\n",
      " #   Column            Non-Null Count  Dtype  \n",
      "---  ------            --------------  -----  \n",
      " 0   title             86 non-null     object \n",
      " 1   seller            86 non-null     object \n",
      " 2   property_type     86 non-null     object \n",
      " 3   address           86 non-null     object \n",
      " 4   price             86 non-null     float64\n",
      " 5   bedrooms          86 non-null     float64\n",
      " 6   bathrooms         86 non-null     float64\n",
      " 7   built_area        86 non-null     float64\n",
      " 8   land_area         86 non-null     float64\n",
      " 9   description       86 non-null     object \n",
      " 10  publication_date  86 non-null     object \n",
      " 11  zip_code          84 non-null     float64\n",
      "dtypes: float64(6), object(6)\n",
      "memory usage: 8.2+ KB\n"
     ]
    }
   ],
   "source": [
    "# Se tienen algunos valores nulos en la columna zip_code\n",
    "nuroa.info()"
   ]
  },
  {
   "cell_type": "code",
   "execution_count": 11,
   "metadata": {},
   "outputs": [],
   "source": [
    "# Se eliminan los valores nulos\n",
    "nuroa = nuroa.dropna(ignore_index=True)"
   ]
  },
  {
   "cell_type": "markdown",
   "metadata": {},
   "source": [
    "### Creando la columna parking"
   ]
  },
  {
   "cell_type": "code",
   "execution_count": 12,
   "metadata": {},
   "outputs": [],
   "source": [
    "# Con esta función localizo el texto donde especifica los lugares de estacionamiento en la descripción\n",
    "def econtrar_textos(texto):\n",
    "    regex = r\"(?i)(.{0,10}estacionamientos?.{0,30}|.{0,10}cocheras?.{0,30}|.{0,10}garages?.{0,30}|.{0,10}parkings?.{0,30})\"\n",
    "    expresion = re.findall(regex, texto)\n",
    "    expresion = \"\".join(expresion)\n",
    "    if len(expresion) > 0:\n",
    "        valor_de_celda = expresion\n",
    "    else:\n",
    "        valor_de_celda = \"cero\"\n",
    "    return valor_de_celda"
   ]
  },
  {
   "cell_type": "code",
   "execution_count": 13,
   "metadata": {},
   "outputs": [],
   "source": [
    "# Función para encontrar en la descripción el número de lugares de estacionamiento\n",
    "def asignar_valor_estacionamiento(texto):\n",
    "    # Buscar dígitos numéricos en el texto\n",
    "    if texto != \"cero\":    \n",
    "        numeros_encontrados = re.findall(r'\\d+', texto)\n",
    "\n",
    "        if numeros_encontrados:\n",
    "            # Tomar el primer número encontrado y convertirlo a entero\n",
    "            return int(numeros_encontrados[0])\n",
    "        elif \"para dos\" in texto.lower():\n",
    "            return 2\n",
    "        elif \"para tres\" in texto.lower():\n",
    "            return 3\n",
    "        elif \"para cuatro\" in texto.lower():\n",
    "            return 4\n",
    "        elif \"para cinco\" in texto.lower():\n",
    "            return 5\n",
    "        else:\n",
    "            return 1"
   ]
  },
  {
   "cell_type": "code",
   "execution_count": 14,
   "metadata": {},
   "outputs": [],
   "source": [
    "# Aplicar las funciones para buscar los valores de parking\n",
    "nuroa[\"parking\"] = nuroa[\"description\"].apply(econtrar_textos)\n",
    "nuroa[\"parking\"] = nuroa[\"parking\"].apply(asignar_valor_estacionamiento)"
   ]
  },
  {
   "cell_type": "code",
   "execution_count": 15,
   "metadata": {},
   "outputs": [
    {
     "name": "stdout",
     "output_type": "stream",
     "text": [
      "<class 'pandas.core.frame.DataFrame'>\n",
      "RangeIndex: 84 entries, 0 to 83\n",
      "Data columns (total 13 columns):\n",
      " #   Column            Non-Null Count  Dtype  \n",
      "---  ------            --------------  -----  \n",
      " 0   title             84 non-null     object \n",
      " 1   seller            84 non-null     object \n",
      " 2   property_type     84 non-null     object \n",
      " 3   address           84 non-null     object \n",
      " 4   price             84 non-null     float64\n",
      " 5   bedrooms          84 non-null     float64\n",
      " 6   bathrooms         84 non-null     float64\n",
      " 7   built_area        84 non-null     float64\n",
      " 8   land_area         84 non-null     float64\n",
      " 9   description       84 non-null     object \n",
      " 10  publication_date  84 non-null     object \n",
      " 11  zip_code          84 non-null     float64\n",
      " 12  parking           65 non-null     float64\n",
      "dtypes: float64(7), object(6)\n",
      "memory usage: 8.7+ KB\n"
     ]
    }
   ],
   "source": [
    "# Se tienen algunos valores nulos en la columna parking\n",
    "nuroa.info()"
   ]
  },
  {
   "cell_type": "code",
   "execution_count": 16,
   "metadata": {},
   "outputs": [],
   "source": [
    "nuroa.to_csv(\"datos_nuroa.csv\", index=False)"
   ]
  }
 ],
 "metadata": {
  "kernelspec": {
   "display_name": "venv",
   "language": "python",
   "name": "python3"
  },
  "language_info": {
   "codemirror_mode": {
    "name": "ipython",
    "version": 3
   },
   "file_extension": ".py",
   "mimetype": "text/x-python",
   "name": "python",
   "nbconvert_exporter": "python",
   "pygments_lexer": "ipython3",
   "version": "3.9.7"
  },
  "orig_nbformat": 4
 },
 "nbformat": 4,
 "nbformat_minor": 2
}
