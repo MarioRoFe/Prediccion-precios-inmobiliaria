{
 "cells": [
  {
   "cell_type": "code",
   "execution_count": 1,
   "metadata": {},
   "outputs": [],
   "source": [
    "import pandas as pd\n",
    "import re"
   ]
  },
  {
   "cell_type": "code",
   "execution_count": 2,
   "metadata": {},
   "outputs": [],
   "source": [
    "lamudi = pd.read_csv(\"/home/mario/Proyectos_Mario/proyecto_alonso/datos_extraidos/casas_lamudi.csv\")"
   ]
  },
  {
   "cell_type": "code",
   "execution_count": 3,
   "metadata": {},
   "outputs": [],
   "source": [
    "# Eliminar filas duplicadas\n",
    "lamudi = lamudi.drop_duplicates()\n",
    "\n",
    "# Eliminar valores nulos\n",
    "lamudi = lamudi.dropna()\n",
    "lamudi = lamudi.reset_index(drop=\"first\")"
   ]
  },
  {
   "cell_type": "code",
   "execution_count": 4,
   "metadata": {},
   "outputs": [],
   "source": [
    "# Se eliminan todas las casas que tienen un remate bancario o hipotecario\n",
    "# ya que no representan el valor real \n",
    "casas_remate = list(lamudi[lamudi.description.str.contains(\"remate\", case=False)].index)\n",
    "lamudi = lamudi.drop(index=casas_remate)\n",
    "lamudi = lamudi.reset_index(drop=\"first\")"
   ]
  },
  {
   "cell_type": "markdown",
   "metadata": {},
   "source": [
    "### Creando la columna zip_code"
   ]
  },
  {
   "cell_type": "code",
   "execution_count": 5,
   "metadata": {},
   "outputs": [],
   "source": [
    "# Adecuo los valores de la columna adddress para hacer una búsqueda efectiva de los zip codes\n",
    "lamudi[\"address\"] = lamudi[\"address\"].apply(lambda x: x.replace(\", Oaxaca, Oaxaca\", \"\"))\n",
    "lamudi[\"address\"] = lamudi[\"address\"].apply(lambda x: x.lower()\\\n",
    "                                                        .replace(\"á\", \"a\")\\\n",
    "                                                        .replace(\"é\", \"e\")\\\n",
    "                                                        .replace(\"í\", \"i\")\\\n",
    "                                                        .replace(\"ó\", \"o\")\\\n",
    "                                                        .replace(\"ú\", \"u\"))\n",
    "lamudi[\"address\"] = lamudi[\"address\"].apply(lambda x: x.replace(\"fraccionamiento\", \"\"))\n",
    "lamudi[\"address\"] = lamudi[\"address\"].apply(lambda x: x.replace(\"fracc\", \"\"))\n",
    "lamudi[\"address\"] = lamudi[\"address\"].apply(lambda x: x.replace(\"unidad hab\", \"unidad habitacional\"))\n",
    "lamudi[\"address\"] = lamudi[\"address\"].apply(lambda x: x.replace(\"agencia de policia de\", \"\")\\\n",
    "                                                        .replace(\"exhacienda\", \"\"))\n",
    "lamudi[\"address\"] = lamudi[\"address\"].apply(lambda x: x.replace(\"res alamos\", \"residencial alamos\"))\n",
    "lamudi[\"address\"] = lamudi[\"address\"].apply(lambda x: x.replace(\"hacienda de antequera\", \"antequera\"))\n",
    "lamudi[\"address\"] = lamudi[\"address\"].apply(lambda x: x.replace(\n",
    "    \"lazaro cardenas 1ra secc\", \"lazaro cardenas 1a secc\"))\n",
    "lamudi[\"address\"] = lamudi[\"address\"].apply(lambda x: x.replace(\n",
    "    \"ejido guadalupe victoria 2da secc\", \"ejido guadalupe victoria segunda seccion\"))\n",
    "\n"
   ]
  },
  {
   "cell_type": "code",
   "execution_count": 6,
   "metadata": {},
   "outputs": [],
   "source": [
    "# Leo la tabla de códigos postales\n",
    "tabla_CP = pd.read_html(\"https://codigo-postal.co/mexico/oaxaca/oaxaca-de-juarez/\")\n",
    "tabla_CP = tabla_CP[0]\n",
    "\n",
    "# Seleccionar las columas que me sirven \n",
    "tabla_CP = tabla_CP.iloc[:, :2]\n",
    "tabla_CP = tabla_CP.drop_duplicates()\n",
    "\n",
    "# Guardar en listas las colonias y sus C.P.\n",
    "cp = list(tabla_CP.iloc[:, 0])\n",
    "direccion = list(tabla_CP.iloc[:, 1])\n",
    "\n",
    "# Crear un diccionario y Eliminar acentos de los nombres de las direcciones\n",
    "cp_dict = {}\n",
    "for i, j in zip(direccion, cp):\n",
    "    cp_dict[i.lower()\\\n",
    "        .replace(\"á\", \"a\")\\\n",
    "        .replace(\"é\", \"e\")\\\n",
    "        .replace(\"í\", \"i\")\\\n",
    "        .replace(\"ó\", \"o\")\\\n",
    "        .replace(\"ú\", \"u\")] = j"
   ]
  },
  {
   "cell_type": "code",
   "execution_count": 7,
   "metadata": {},
   "outputs": [],
   "source": [
    "# Creo una lista con los datos de zip code para cada propiedad\n",
    "cp_column = []\n",
    "for i, d in zip(lamudi.index, lamudi.address):\n",
    "    regex = re.compile(fr\"(.{{0,30}}{d}.{{0,30}})\", re.IGNORECASE)\n",
    "    location_name = list(filter(lambda x: regex.findall(x), cp_dict.keys()))\n",
    "\n",
    "    try:\n",
    "        cp_column.append(cp_dict[location_name[0]])\n",
    "    except:\n",
    "        cp_column.append(None)"
   ]
  },
  {
   "cell_type": "code",
   "execution_count": 8,
   "metadata": {},
   "outputs": [],
   "source": [
    "# Creo la columna zip_code\n",
    "lamudi[\"zip_code\"] = cp_column"
   ]
  },
  {
   "cell_type": "code",
   "execution_count": 9,
   "metadata": {},
   "outputs": [],
   "source": [
    "# Se eliminan los valores de que se generaron en la columna zipcode\n",
    "lamudi = lamudi.dropna()\n",
    "lamudi = lamudi.reset_index(drop=\"first\")"
   ]
  },
  {
   "cell_type": "markdown",
   "metadata": {},
   "source": [
    "### Creando la columna parking"
   ]
  },
  {
   "cell_type": "code",
   "execution_count": 10,
   "metadata": {},
   "outputs": [],
   "source": [
    "# Con esta función localizo el texto donde especifica los lugares de estacionamiento en la descripción\n",
    "def econtrar_textos(texto):\n",
    "    regex = r\"(?i)(.{0,10}estacionamientos?.{0,30}|.{0,10}cocheras?.{0,30}|.{0,10}garages?.{0,30}|.{0,10}parkings?.{0,30})\"\n",
    "    expresion = re.findall(regex, texto)\n",
    "    expresion = \"\".join(expresion)\n",
    "    if len(expresion) > 0:\n",
    "        valor_de_celda = expresion\n",
    "    else:\n",
    "        valor_de_celda = \"cero\"\n",
    "    return valor_de_celda"
   ]
  },
  {
   "cell_type": "code",
   "execution_count": 11,
   "metadata": {},
   "outputs": [],
   "source": [
    "# Función para encontrar en la descripción el número de lugares de estacionamiento\n",
    "def asignar_valor_estacionamiento(texto):\n",
    "    # Buscar dígitos numéricos en el texto\n",
    "    if texto != \"cero\":    \n",
    "        numeros_encontrados = re.findall(r'\\d+', texto)\n",
    "\n",
    "        if numeros_encontrados:\n",
    "            # Tomar el primer número encontrado y convertirlo a entero\n",
    "            return int(numeros_encontrados[0])\n",
    "        elif \"para dos\" in texto.lower():\n",
    "            return 2\n",
    "        elif \"para tres\" in texto.lower():\n",
    "            return 3\n",
    "        elif \"para cuatro\" in texto.lower():\n",
    "            return 4\n",
    "        elif \"para cinco\" in texto.lower():\n",
    "            return 5\n",
    "        else:\n",
    "            return 1"
   ]
  },
  {
   "cell_type": "code",
   "execution_count": 12,
   "metadata": {},
   "outputs": [],
   "source": [
    "# Aplicar las funciones para buscar los valores de parking\n",
    "lamudi[\"parking\"] = lamudi[\"description\"].apply(econtrar_textos)\n",
    "lamudi[\"parking\"] = lamudi[\"parking\"].apply(asignar_valor_estacionamiento)"
   ]
  },
  {
   "cell_type": "code",
   "execution_count": 13,
   "metadata": {},
   "outputs": [
    {
     "name": "stdout",
     "output_type": "stream",
     "text": [
      "<class 'pandas.core.frame.DataFrame'>\n",
      "RangeIndex: 73 entries, 0 to 72\n",
      "Data columns (total 13 columns):\n",
      " #   Column            Non-Null Count  Dtype  \n",
      "---  ------            --------------  -----  \n",
      " 0   title             73 non-null     object \n",
      " 1   seller            73 non-null     object \n",
      " 2   property_type     73 non-null     object \n",
      " 3   address           73 non-null     object \n",
      " 4   price             73 non-null     int64  \n",
      " 5   bedrooms          73 non-null     float64\n",
      " 6   bathrooms         73 non-null     float64\n",
      " 7   built_area        73 non-null     float64\n",
      " 8   land_area         73 non-null     float64\n",
      " 9   description       73 non-null     object \n",
      " 10  publication_date  73 non-null     object \n",
      " 11  zip_code          73 non-null     float64\n",
      " 12  parking           43 non-null     float64\n",
      "dtypes: float64(6), int64(1), object(6)\n",
      "memory usage: 7.5+ KB\n"
     ]
    }
   ],
   "source": [
    "# Se tienen algunos valores nulos en la columna zip_code\n",
    "lamudi.info()"
   ]
  },
  {
   "cell_type": "code",
   "execution_count": 14,
   "metadata": {},
   "outputs": [],
   "source": [
    "lamudi.to_csv(\"datos_lamudi.csv\", index=False)"
   ]
  }
 ],
 "metadata": {
  "kernelspec": {
   "display_name": "venv",
   "language": "python",
   "name": "python3"
  },
  "language_info": {
   "codemirror_mode": {
    "name": "ipython",
    "version": 3
   },
   "file_extension": ".py",
   "mimetype": "text/x-python",
   "name": "python",
   "nbconvert_exporter": "python",
   "pygments_lexer": "ipython3",
   "version": "3.9.7"
  },
  "orig_nbformat": 4
 },
 "nbformat": 4,
 "nbformat_minor": 2
}
