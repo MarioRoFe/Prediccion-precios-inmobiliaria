{
 "cells": [
  {
   "cell_type": "code",
   "execution_count": 1,
   "metadata": {},
   "outputs": [],
   "source": [
    "import pandas as pd\n",
    "import re"
   ]
  },
  {
   "cell_type": "code",
   "execution_count": 2,
   "metadata": {},
   "outputs": [],
   "source": [
    "ml = pd.read_csv(\"../datos_extraidos/casas_mercadoLibre.csv\")"
   ]
  },
  {
   "cell_type": "code",
   "execution_count": 3,
   "metadata": {},
   "outputs": [
    {
     "name": "stdout",
     "output_type": "stream",
     "text": [
      "<class 'pandas.core.frame.DataFrame'>\n",
      "RangeIndex: 23 entries, 0 to 22\n",
      "Data columns (total 11 columns):\n",
      " #   Column         Non-Null Count  Dtype  \n",
      "---  ------         --------------  -----  \n",
      " 0   title          23 non-null     object \n",
      " 1   seller         23 non-null     object \n",
      " 2   property_type  12 non-null     object \n",
      " 3   address        22 non-null     object \n",
      " 4   price          23 non-null     int64  \n",
      " 5   bedrooms       23 non-null     int64  \n",
      " 6   bathrooms      23 non-null     int64  \n",
      " 7   built_Area     23 non-null     float64\n",
      " 8   land_Area      23 non-null     int64  \n",
      " 9   parking        23 non-null     int64  \n",
      " 10  description    23 non-null     object \n",
      "dtypes: float64(1), int64(5), object(5)\n",
      "memory usage: 2.1+ KB\n"
     ]
    }
   ],
   "source": [
    "# Se tienen algunos valores nulos\n",
    "ml.info()"
   ]
  },
  {
   "cell_type": "code",
   "execution_count": 4,
   "metadata": {},
   "outputs": [],
   "source": [
    "# Se eliminan los valores nulos de la columna address\n",
    "no_address = ml[ml.address.isnull()].index\n",
    "ml = ml.drop(no_address)\n",
    "ml = ml.reset_index(drop=\"first\")"
   ]
  },
  {
   "cell_type": "code",
   "execution_count": 5,
   "metadata": {},
   "outputs": [],
   "source": [
    "# Adecuo los valores de la columna adddress para hacer una búsqueda efectiva de los zip codes\n",
    "ml[\"address\"] = ml[\"address\"].apply(lambda x: x.lower()\\\n",
    "                                                        .replace(\"á\", \"a\")\\\n",
    "                                                        .replace(\"é\", \"e\")\\\n",
    "                                                        .replace(\"í\", \"i\")\\\n",
    "                                                        .replace(\"ó\", \"o\")\\\n",
    "                                                        .replace(\"ú\", \"u\"))\n",
    "ml[\"address\"] = ml[\"address\"].apply(lambda x: x.replace(\n",
    "                                                \"agencia municipal de san felipe del agua\", \n",
    "                                                \"san felipe del agua\"))\n",
    "ml[\"address\"] = ml[\"address\"].apply(lambda x: x.replace(\"sierra de juarez\",\n",
    "                                                        \"san felipe del agua\"))"
   ]
  },
  {
   "cell_type": "code",
   "execution_count": 6,
   "metadata": {},
   "outputs": [],
   "source": [
    "casas_remate = list(ml[ml.description.str.contains(\"remate|bancaria|recuperación|hipotecaria\", case=False)].index)\n",
    "ml = ml.drop(index=casas_remate)\n",
    "ml = ml.reset_index(drop=\"first\")"
   ]
  },
  {
   "cell_type": "code",
   "execution_count": 7,
   "metadata": {},
   "outputs": [
    {
     "name": "stdout",
     "output_type": "stream",
     "text": [
      "<class 'pandas.core.frame.DataFrame'>\n",
      "RangeIndex: 16 entries, 0 to 15\n",
      "Data columns (total 11 columns):\n",
      " #   Column         Non-Null Count  Dtype  \n",
      "---  ------         --------------  -----  \n",
      " 0   title          16 non-null     object \n",
      " 1   seller         16 non-null     object \n",
      " 2   property_type  6 non-null      object \n",
      " 3   address        16 non-null     object \n",
      " 4   price          16 non-null     int64  \n",
      " 5   bedrooms       16 non-null     int64  \n",
      " 6   bathrooms      16 non-null     int64  \n",
      " 7   built_Area     16 non-null     float64\n",
      " 8   land_Area      16 non-null     int64  \n",
      " 9   parking        16 non-null     int64  \n",
      " 10  description    16 non-null     object \n",
      "dtypes: float64(1), int64(5), object(5)\n",
      "memory usage: 1.5+ KB\n"
     ]
    }
   ],
   "source": [
    "# Solo se tienen valores nulos en la columna property_type\n",
    "ml.info()"
   ]
  },
  {
   "cell_type": "code",
   "execution_count": 8,
   "metadata": {},
   "outputs": [],
   "source": [
    "# Elimino una fila cuyo valor no sirve para el análisis ya que es una \n",
    "# propiedad pensada para uso comercial y no una casa\n",
    "ml = ml.drop(index=2)\n",
    "ml = ml.reset_index(drop=\"first\")"
   ]
  },
  {
   "cell_type": "code",
   "execution_count": 9,
   "metadata": {},
   "outputs": [],
   "source": [
    "# Se cambian los valores de property type ya que el resto de los \n",
    "# inmuebles son casas\n",
    "ml[\"property_type\"] = \"Casa\""
   ]
  },
  {
   "cell_type": "markdown",
   "metadata": {},
   "source": [
    "### Creando la columna parking"
   ]
  },
  {
   "cell_type": "code",
   "execution_count": 10,
   "metadata": {},
   "outputs": [
    {
     "data": {
      "text/plain": [
       "9"
      ]
     },
     "execution_count": 10,
     "metadata": {},
     "output_type": "execute_result"
    }
   ],
   "source": [
    "# Se tienen 9 filas que marcan como 0 el valor de parking\n",
    "len(ml.query(\"parking==0\"))"
   ]
  },
  {
   "cell_type": "code",
   "execution_count": 11,
   "metadata": {},
   "outputs": [],
   "source": [
    "# Con esta función localizo el texto donde especifica los lugares de estacionamiento en la descripción\n",
    "def econtrar_textos(texto):\n",
    "    regex = r\"(?i)(.{0,4}estacionamientos?.{0,20}|.{0,4}cocheras?.{0,20}|.{0,4}garages?.{0,20}|.{0,4}parkings?.{0,20})\"\n",
    "    expresion = re.findall(regex, texto)\n",
    "    expresion = \"\".join(expresion)\n",
    "    if len(expresion) > 0:\n",
    "        valor_de_celda = expresion\n",
    "    else:\n",
    "        valor_de_celda = \"cero\"\n",
    "    return valor_de_celda"
   ]
  },
  {
   "cell_type": "code",
   "execution_count": 12,
   "metadata": {},
   "outputs": [],
   "source": [
    "# Función para encontrar en la descripción el número de lugares de estacionamiento\n",
    "def asignar_valor_estacionamiento(texto):\n",
    "    # Buscar dígitos numéricos en el texto\n",
    "    if texto != \"cero\":    \n",
    "        numeros_encontrados = re.findall(r'\\d+', texto)\n",
    "\n",
    "        if numeros_encontrados:\n",
    "            # Tomar el primer número encontrado y convertirlo a entero\n",
    "            return int(numeros_encontrados[0])\n",
    "        elif \"para dos\" in texto.lower():\n",
    "            return 2\n",
    "        elif \"para tres\" in texto.lower():\n",
    "            return 3\n",
    "        else:\n",
    "            return 1"
   ]
  },
  {
   "cell_type": "code",
   "execution_count": 13,
   "metadata": {},
   "outputs": [],
   "source": [
    "# Aplicar las funciones para buscar los valores de parking\n",
    "ml[\"estacionamiento\"] = ml[\"description\"].apply(econtrar_textos)\n",
    "ml[\"estacionamiento\"] = ml[\"estacionamiento\"].apply(asignar_valor_estacionamiento)"
   ]
  },
  {
   "cell_type": "code",
   "execution_count": 14,
   "metadata": {},
   "outputs": [],
   "source": [
    "# Reemplazar los valores en las filas de la columna parking donde marca cero\n",
    "ml.loc[7:12, \"parking\"] = ml.loc[7:12, \"estacionamiento\"]\n",
    "\n",
    "# Eliminar la columna estacionamiento\n",
    "ml = ml.drop(columns=\"estacionamiento\")"
   ]
  },
  {
   "cell_type": "code",
   "execution_count": 15,
   "metadata": {},
   "outputs": [],
   "source": [
    "# Eliminar las filas donde parking es cero\n",
    "no_parking = list(ml[ml[\"parking\"]==0].index)\n",
    "ml = ml.drop(index=no_parking)\n",
    "ml = ml.reset_index(drop=\"first\")"
   ]
  },
  {
   "cell_type": "markdown",
   "metadata": {},
   "source": [
    "### Creando columna zip_code"
   ]
  },
  {
   "cell_type": "code",
   "execution_count": 16,
   "metadata": {},
   "outputs": [],
   "source": [
    "# Leo la tabla de códigos postales\n",
    "tabla_CP = pd.read_html(\"https://codigo-postal.co/mexico/oaxaca/oaxaca-de-juarez/\")\n",
    "tabla_CP = tabla_CP[0]\n",
    "\n",
    "# Seleccionar las columas que me sirven \n",
    "tabla_CP = tabla_CP.iloc[:, :2]\n",
    "tabla_CP = tabla_CP.drop_duplicates()\n",
    "\n",
    "# Guardar en listas las colonias y sus C.P.\n",
    "cp = list(tabla_CP.iloc[:, 0])\n",
    "direccion = list(tabla_CP.iloc[:, 1])\n",
    "\n",
    "# Crear un diccionario y Eliminar acentos de los nombres de las direcciones\n",
    "cp_dict = {}\n",
    "for i, j in zip(direccion, cp):\n",
    "    cp_dict[i.lower()\\\n",
    "        .replace(\"á\", \"a\")\\\n",
    "        .replace(\"é\", \"e\")\\\n",
    "        .replace(\"í\", \"i\")\\\n",
    "        .replace(\"ó\", \"o\")\\\n",
    "        .replace(\"ú\", \"u\")] = j"
   ]
  },
  {
   "cell_type": "code",
   "execution_count": 17,
   "metadata": {},
   "outputs": [],
   "source": [
    "# Creo una función que asigna el zip code según la dirección\n",
    "def buscador_zip_code(lista, diccionario):\n",
    "    lista_coincidencias = []\n",
    "    for i in lista:\n",
    "        if (i.strip() == 'san felipe') | (i.strip() == \"tulipanes\"):\n",
    "            pass\n",
    "        else:\n",
    "            regex = re.compile(fr\"(.{{0,30}}{i.strip()}.{{0,30}})\", re.IGNORECASE)\n",
    "            coincidencia = list(filter(lambda x: regex.findall(x), diccionario.keys()))\n",
    "            if len(coincidencia) > 0:\n",
    "                lista_coincidencias.append(coincidencia[0])\n",
    "    try:\n",
    "        return diccionario[\"\".join(lista_coincidencias[0])]\n",
    "    except:\n",
    "        None"
   ]
  },
  {
   "cell_type": "code",
   "execution_count": 18,
   "metadata": {},
   "outputs": [],
   "source": [
    "# Separo los datos contenidos en dirección para poder trabajar con ellos\n",
    "ml[\"zip_code\"] = ml[\"address\"].apply(lambda x: x.split(\",\"))\n",
    "# Asigno el zip code usando mi función buscador_zip_code\n",
    "ml[\"zip_code\"] = ml[\"zip_code\"].apply(buscador_zip_code, diccionario=cp_dict)"
   ]
  },
  {
   "cell_type": "code",
   "execution_count": 19,
   "metadata": {},
   "outputs": [],
   "source": [
    "# Se eliminan valores nulos y valores duplicados\n",
    "ml = ml.drop_duplicates()\n",
    "ml = ml.dropna(ignore_index=True)"
   ]
  },
  {
   "cell_type": "code",
   "execution_count": 20,
   "metadata": {},
   "outputs": [
    {
     "name": "stdout",
     "output_type": "stream",
     "text": [
      "<class 'pandas.core.frame.DataFrame'>\n",
      "RangeIndex: 8 entries, 0 to 7\n",
      "Data columns (total 12 columns):\n",
      " #   Column         Non-Null Count  Dtype  \n",
      "---  ------         --------------  -----  \n",
      " 0   title          8 non-null      object \n",
      " 1   seller         8 non-null      object \n",
      " 2   property_type  8 non-null      object \n",
      " 3   address        8 non-null      object \n",
      " 4   price          8 non-null      int64  \n",
      " 5   bedrooms       8 non-null      int64  \n",
      " 6   bathrooms      8 non-null      int64  \n",
      " 7   built_Area     8 non-null      float64\n",
      " 8   land_Area      8 non-null      int64  \n",
      " 9   parking        8 non-null      float64\n",
      " 10  description    8 non-null      object \n",
      " 11  zip_code       8 non-null      int64  \n",
      "dtypes: float64(2), int64(5), object(5)\n",
      "memory usage: 896.0+ bytes\n"
     ]
    }
   ],
   "source": [
    "ml.info()"
   ]
  },
  {
   "cell_type": "code",
   "execution_count": 21,
   "metadata": {},
   "outputs": [],
   "source": [
    "ml.to_csv(\"datos_mercadoLibre.csv\", index=False)"
   ]
  }
 ],
 "metadata": {
  "kernelspec": {
   "display_name": "venv",
   "language": "python",
   "name": "python3"
  },
  "language_info": {
   "codemirror_mode": {
    "name": "ipython",
    "version": 3
   },
   "file_extension": ".py",
   "mimetype": "text/x-python",
   "name": "python",
   "nbconvert_exporter": "python",
   "pygments_lexer": "ipython3",
   "version": "3.9.7"
  },
  "orig_nbformat": 4
 },
 "nbformat": 4,
 "nbformat_minor": 2
}
