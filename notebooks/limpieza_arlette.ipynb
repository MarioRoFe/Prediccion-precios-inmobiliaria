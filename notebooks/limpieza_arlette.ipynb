{
 "cells": [
  {
   "cell_type": "code",
   "execution_count": 40,
   "metadata": {},
   "outputs": [],
   "source": [
    "import pandas as pd\n",
    "import re"
   ]
  },
  {
   "cell_type": "code",
   "execution_count": 41,
   "metadata": {},
   "outputs": [],
   "source": [
    "arlette = pd.read_csv(\"/home/mario/Proyectos_Mario/proyecto_alonso/datos_extraidos/casas_arlette.csv\")\n",
    "arlette = arlette.drop_duplicates()\n",
    "\n",
    "# Elijo unicamente los inmuebles que son casas\n",
    "arlette = arlette.query(\"property_type=='Casa'\").reset_index(drop=\"first\")\n",
    "\n",
    "# Elimino los acentos\n",
    "arlette[\"address\"] = arlette.address.apply(lambda x: x.lower()\\\n",
    "                                           .replace(\"á\", \"a\")\\\n",
    "                                            .replace(\"é\", \"e\")\\\n",
    "                                            .replace(\"í\", \"i\")\\\n",
    "                                            .replace(\"ó\", \"o\")\\\n",
    "                                            .replace(\"ú\", \"u\"))"
   ]
  },
  {
   "cell_type": "code",
   "execution_count": 42,
   "metadata": {},
   "outputs": [
    {
     "name": "stdout",
     "output_type": "stream",
     "text": [
      "<class 'pandas.core.frame.DataFrame'>\n",
      "RangeIndex: 20 entries, 0 to 19\n",
      "Data columns (total 11 columns):\n",
      " #   Column         Non-Null Count  Dtype  \n",
      "---  ------         --------------  -----  \n",
      " 0   title          20 non-null     object \n",
      " 1   seller         20 non-null     object \n",
      " 2   property_type  20 non-null     object \n",
      " 3   address        20 non-null     object \n",
      " 4   price          19 non-null     float64\n",
      " 5   bedrooms       20 non-null     float64\n",
      " 6   bathrooms      19 non-null     float64\n",
      " 7   built_area     19 non-null     float64\n",
      " 8   land_area      19 non-null     float64\n",
      " 9   description    20 non-null     object \n",
      " 10  parking        20 non-null     float64\n",
      "dtypes: float64(6), object(5)\n",
      "memory usage: 1.8+ KB\n"
     ]
    }
   ],
   "source": [
    "arlette.info()"
   ]
  },
  {
   "cell_type": "code",
   "execution_count": 43,
   "metadata": {},
   "outputs": [],
   "source": [
    "arlette = arlette.dropna()\n",
    "arlette = arlette.reset_index(drop=\"first\")"
   ]
  },
  {
   "cell_type": "code",
   "execution_count": 44,
   "metadata": {},
   "outputs": [
    {
     "name": "stdout",
     "output_type": "stream",
     "text": [
      "<class 'pandas.core.frame.DataFrame'>\n",
      "RangeIndex: 16 entries, 0 to 15\n",
      "Data columns (total 11 columns):\n",
      " #   Column         Non-Null Count  Dtype  \n",
      "---  ------         --------------  -----  \n",
      " 0   title          16 non-null     object \n",
      " 1   seller         16 non-null     object \n",
      " 2   property_type  16 non-null     object \n",
      " 3   address        16 non-null     object \n",
      " 4   price          16 non-null     float64\n",
      " 5   bedrooms       16 non-null     float64\n",
      " 6   bathrooms      16 non-null     float64\n",
      " 7   built_area     16 non-null     float64\n",
      " 8   land_area      16 non-null     float64\n",
      " 9   description    16 non-null     object \n",
      " 10  parking        16 non-null     float64\n",
      "dtypes: float64(6), object(5)\n",
      "memory usage: 1.5+ KB\n"
     ]
    }
   ],
   "source": [
    "arlette.info()"
   ]
  },
  {
   "cell_type": "markdown",
   "metadata": {},
   "source": [
    "### Creando la columna zip_code"
   ]
  },
  {
   "cell_type": "code",
   "execution_count": 45,
   "metadata": {},
   "outputs": [],
   "source": [
    "# Leo la tabla de códigos postales\n",
    "tabla_CP = pd.read_html(\"https://codigo-postal.co/mexico/oaxaca/oaxaca-de-juarez/\")\n",
    "tabla_CP = tabla_CP[0]"
   ]
  },
  {
   "cell_type": "code",
   "execution_count": 46,
   "metadata": {},
   "outputs": [],
   "source": [
    "# Seleccionar las columas que me sirven \n",
    "tabla_CP = tabla_CP.iloc[:, :2]\n",
    "tabla_CP = tabla_CP.drop_duplicates()"
   ]
  },
  {
   "cell_type": "code",
   "execution_count": 47,
   "metadata": {},
   "outputs": [],
   "source": [
    "# Guardar en listas las colonias y sus C.P.\n",
    "cp = list(tabla_CP.iloc[:, 0])\n",
    "direccion = list(tabla_CP.iloc[:, 1])"
   ]
  },
  {
   "cell_type": "code",
   "execution_count": 48,
   "metadata": {},
   "outputs": [],
   "source": [
    "# Crear un diccionario y Eliminar acentos de los nombres de las direcciones\n",
    "cp_dict = {}\n",
    "for i, j in zip(direccion, cp):\n",
    "    cp_dict[i.lower()\\\n",
    "        .replace(\"á\", \"a\")\\\n",
    "        .replace(\"é\", \"e\")\\\n",
    "        .replace(\"í\", \"i\")\\\n",
    "        .replace(\"ó\", \"o\")\\\n",
    "        .replace(\"ú\", \"u\")] = j"
   ]
  },
  {
   "cell_type": "code",
   "execution_count": 49,
   "metadata": {},
   "outputs": [],
   "source": [
    "# Eliminar palabras que entorpecen la búsqueda del C.P.\n",
    "arlette[\"address\"] = arlette.address.apply(\n",
    "    lambda x: x.replace(\"agencia\", \"\").replace(\"municipal\", \"\").strip())"
   ]
  },
  {
   "cell_type": "code",
   "execution_count": 50,
   "metadata": {},
   "outputs": [],
   "source": [
    "# Creo una lista con los datos de zip code para cada propiedad\n",
    "cp_column = []\n",
    "for i, d in zip(arlette.index, arlette.address):\n",
    "    regex = re.compile(fr\"(.{{0,20}}{d}.{{0,20}})\", re.IGNORECASE)\n",
    "    location_name = list(filter(lambda x: regex.findall(x), cp_dict.keys()))\n",
    "\n",
    "    try:\n",
    "        cp_column.append(cp_dict[location_name[0]])\n",
    "    except:\n",
    "        cp_column.append(None)"
   ]
  },
  {
   "cell_type": "code",
   "execution_count": 51,
   "metadata": {},
   "outputs": [],
   "source": [
    "# Creo la columna zip_code con los valores obtenidos de la iteración\n",
    "arlette[\"zip_code\"] = cp_column"
   ]
  },
  {
   "cell_type": "code",
   "execution_count": 52,
   "metadata": {},
   "outputs": [
    {
     "name": "stdout",
     "output_type": "stream",
     "text": [
      "<class 'pandas.core.frame.DataFrame'>\n",
      "RangeIndex: 16 entries, 0 to 15\n",
      "Data columns (total 12 columns):\n",
      " #   Column         Non-Null Count  Dtype  \n",
      "---  ------         --------------  -----  \n",
      " 0   title          16 non-null     object \n",
      " 1   seller         16 non-null     object \n",
      " 2   property_type  16 non-null     object \n",
      " 3   address        16 non-null     object \n",
      " 4   price          16 non-null     float64\n",
      " 5   bedrooms       16 non-null     float64\n",
      " 6   bathrooms      16 non-null     float64\n",
      " 7   built_area     16 non-null     float64\n",
      " 8   land_area      16 non-null     float64\n",
      " 9   description    16 non-null     object \n",
      " 10  parking        16 non-null     float64\n",
      " 11  zip_code       15 non-null     float64\n",
      "dtypes: float64(7), object(5)\n",
      "memory usage: 1.6+ KB\n"
     ]
    }
   ],
   "source": [
    "arlette.info()"
   ]
  },
  {
   "cell_type": "code",
   "execution_count": 53,
   "metadata": {},
   "outputs": [],
   "source": [
    "arlette = arlette.drop_duplicates()\n",
    "arlette = arlette.dropna(ignore_index=True)"
   ]
  },
  {
   "cell_type": "code",
   "execution_count": 55,
   "metadata": {},
   "outputs": [],
   "source": [
    "# arlette.to_csv(\"datos_arlette.csv\", index=False)"
   ]
  }
 ],
 "metadata": {
  "kernelspec": {
   "display_name": "venv",
   "language": "python",
   "name": "python3"
  },
  "language_info": {
   "codemirror_mode": {
    "name": "ipython",
    "version": 3
   },
   "file_extension": ".py",
   "mimetype": "text/x-python",
   "name": "python",
   "nbconvert_exporter": "python",
   "pygments_lexer": "ipython3",
   "version": "3.9.7"
  },
  "orig_nbformat": 4
 },
 "nbformat": 4,
 "nbformat_minor": 2
}
