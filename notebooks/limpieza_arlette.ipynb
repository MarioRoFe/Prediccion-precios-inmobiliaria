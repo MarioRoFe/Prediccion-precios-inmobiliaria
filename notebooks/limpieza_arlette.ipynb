{
 "cells": [
  {
   "cell_type": "code",
   "execution_count": 1,
   "metadata": {},
   "outputs": [],
   "source": [
    "import pandas as pd\n",
    "import re"
   ]
  },
  {
   "cell_type": "code",
   "execution_count": 2,
   "metadata": {},
   "outputs": [],
   "source": [
    "arlette = pd.read_csv(\"../datos_extraidos/casas_arlette.csv\")\n",
    "arlette = arlette.drop_duplicates()\n",
    "\n",
    "# Elijo unicamente los inmuebles que son casas\n",
    "arlette = arlette.query(\"property_type=='Casa'\").reset_index(drop=\"first\")\n",
    "\n",
    "# Elimino los acentos\n",
    "arlette[\"address\"] = arlette.address.apply(lambda x: x.lower()\\\n",
    "                                           .replace(\"á\", \"a\")\\\n",
    "                                            .replace(\"é\", \"e\")\\\n",
    "                                            .replace(\"í\", \"i\")\\\n",
    "                                            .replace(\"ó\", \"o\")\\\n",
    "                                            .replace(\"ú\", \"u\"))"
   ]
  },
  {
   "cell_type": "code",
   "execution_count": 3,
   "metadata": {},
   "outputs": [
    {
     "name": "stdout",
     "output_type": "stream",
     "text": [
      "<class 'pandas.core.frame.DataFrame'>\n",
      "RangeIndex: 20 entries, 0 to 19\n",
      "Data columns (total 11 columns):\n",
      " #   Column         Non-Null Count  Dtype  \n",
      "---  ------         --------------  -----  \n",
      " 0   title          20 non-null     object \n",
      " 1   seller         20 non-null     object \n",
      " 2   property_type  20 non-null     object \n",
      " 3   address        20 non-null     object \n",
      " 4   price          19 non-null     float64\n",
      " 5   bedrooms       20 non-null     float64\n",
      " 6   bathrooms      19 non-null     float64\n",
      " 7   built_area     19 non-null     float64\n",
      " 8   land_area      19 non-null     float64\n",
      " 9   description    20 non-null     object \n",
      " 10  parking        20 non-null     float64\n",
      "dtypes: float64(6), object(5)\n",
      "memory usage: 1.8+ KB\n"
     ]
    }
   ],
   "source": [
    "arlette.info()"
   ]
  },
  {
   "cell_type": "code",
   "execution_count": 4,
   "metadata": {},
   "outputs": [],
   "source": [
    "arlette = arlette.dropna()\n",
    "arlette = arlette.reset_index(drop=\"first\")"
   ]
  },
  {
   "cell_type": "code",
   "execution_count": 5,
   "metadata": {},
   "outputs": [
    {
     "data": {
      "text/plain": [
       "array([2., 3., 8., 4., 5.])"
      ]
     },
     "execution_count": 5,
     "metadata": {},
     "output_type": "execute_result"
    }
   ],
   "source": [
    "# Un valor de 8 para parking es atípico\n",
    "arlette.parking.unique()"
   ]
  },
  {
   "cell_type": "code",
   "execution_count": 6,
   "metadata": {},
   "outputs": [
    {
     "data": {
      "text/html": [
       "<div>\n",
       "<style scoped>\n",
       "    .dataframe tbody tr th:only-of-type {\n",
       "        vertical-align: middle;\n",
       "    }\n",
       "\n",
       "    .dataframe tbody tr th {\n",
       "        vertical-align: top;\n",
       "    }\n",
       "\n",
       "    .dataframe thead th {\n",
       "        text-align: right;\n",
       "    }\n",
       "</style>\n",
       "<table border=\"1\" class=\"dataframe\">\n",
       "  <thead>\n",
       "    <tr style=\"text-align: right;\">\n",
       "      <th></th>\n",
       "      <th>title</th>\n",
       "      <th>seller</th>\n",
       "      <th>property_type</th>\n",
       "      <th>address</th>\n",
       "      <th>price</th>\n",
       "      <th>bedrooms</th>\n",
       "      <th>bathrooms</th>\n",
       "      <th>built_area</th>\n",
       "      <th>land_area</th>\n",
       "      <th>description</th>\n",
       "      <th>parking</th>\n",
       "    </tr>\n",
       "  </thead>\n",
       "  <tbody>\n",
       "    <tr>\n",
       "      <th>10</th>\n",
       "      <td>Hermosa propiedad en renta en San Felipe del A...</td>\n",
       "      <td>arlette</td>\n",
       "      <td>Casa</td>\n",
       "      <td>san felipe del agua</td>\n",
       "      <td>50000.0</td>\n",
       "      <td>3.0</td>\n",
       "      <td>2.0</td>\n",
       "      <td>350.0</td>\n",
       "      <td>800.0</td>\n",
       "      <td>En renta! Hermosa propiedad en San Felipe del ...</td>\n",
       "      <td>8.0</td>\n",
       "    </tr>\n",
       "  </tbody>\n",
       "</table>\n",
       "</div>"
      ],
      "text/plain": [
       "                                                title   seller property_type  \\\n",
       "10  Hermosa propiedad en renta en San Felipe del A...  arlette          Casa   \n",
       "\n",
       "                address    price  bedrooms  bathrooms  built_area  land_area  \\\n",
       "10  san felipe del agua  50000.0       3.0        2.0       350.0      800.0   \n",
       "\n",
       "                                          description  parking  \n",
       "10  En renta! Hermosa propiedad en San Felipe del ...      8.0  "
      ]
     },
     "execution_count": 6,
     "metadata": {},
     "output_type": "execute_result"
    }
   ],
   "source": [
    "arlette.query(\"parking>5\")"
   ]
  },
  {
   "cell_type": "code",
   "execution_count": 7,
   "metadata": {},
   "outputs": [
    {
     "data": {
      "text/plain": [
       "'En venta, hermosa residencia en Santa Lucia del Camino, a solo unas cuadras del Palacio Municipal, con fácil acceso desde Avenida Ferrocarril y Camino Nacional.,Superficie de terreno de 475 metros cuadrados, y 520 metros cuadrados de construcción en dos plantas.,Entrando a la casa, un hermoso jardín nos recibe y da acceso a la cochera techada para dos autos.,Un hermoso corredor rodea la sala- con precioso bar-, el comedor, el estudio, y dos amplísimas recámaras que cuentan con baño propio, todo con vista a una gran piscina ovalada, totalmente equipada, rodeada por preciosas jardineras, zona de asador, y baños que dan servicio al area de la piscina.,La cocina integral es totalmente equipada, y da acceso a el area de servicio que cuenta con lavandería y cuarto de servicio con baño completo.,En la planta alta, encontramos la recámara principal, que cuenta con precioso vestidor, y baño completo con sauna. También en esta planta encontramos otra amplísima recámara- también con baño propio, y la recámara de visitas, todas con salida a la terraza.,La propiedad cuenta con todos los servicios públicos, cisterna, gas estacionario, linea telefónica.,Acabados de primera calidad, oportunidad!'"
      ]
     },
     "execution_count": 7,
     "metadata": {},
     "output_type": "execute_result"
    }
   ],
   "source": [
    "# Aunque el dato extraído marca 8, la descripción menciona 4 lugares de parking\n",
    "arlette.description[9]"
   ]
  },
  {
   "cell_type": "code",
   "execution_count": 8,
   "metadata": {},
   "outputs": [],
   "source": [
    "# Se corrige el dato\n",
    "arlette.loc[arlette.query(\"parking>5\").index[0], \"parking\"] = 4"
   ]
  },
  {
   "cell_type": "code",
   "execution_count": 9,
   "metadata": {},
   "outputs": [
    {
     "data": {
      "text/plain": [
       "array([2., 3., 4., 5.])"
      ]
     },
     "execution_count": 9,
     "metadata": {},
     "output_type": "execute_result"
    }
   ],
   "source": [
    "# Los valores ahora son correctos\n",
    "arlette.parking.unique()"
   ]
  },
  {
   "cell_type": "code",
   "execution_count": 10,
   "metadata": {},
   "outputs": [
    {
     "name": "stdout",
     "output_type": "stream",
     "text": [
      "<class 'pandas.core.frame.DataFrame'>\n",
      "RangeIndex: 16 entries, 0 to 15\n",
      "Data columns (total 11 columns):\n",
      " #   Column         Non-Null Count  Dtype  \n",
      "---  ------         --------------  -----  \n",
      " 0   title          16 non-null     object \n",
      " 1   seller         16 non-null     object \n",
      " 2   property_type  16 non-null     object \n",
      " 3   address        16 non-null     object \n",
      " 4   price          16 non-null     float64\n",
      " 5   bedrooms       16 non-null     float64\n",
      " 6   bathrooms      16 non-null     float64\n",
      " 7   built_area     16 non-null     float64\n",
      " 8   land_area      16 non-null     float64\n",
      " 9   description    16 non-null     object \n",
      " 10  parking        16 non-null     float64\n",
      "dtypes: float64(6), object(5)\n",
      "memory usage: 1.5+ KB\n"
     ]
    }
   ],
   "source": [
    "arlette.info()"
   ]
  },
  {
   "cell_type": "markdown",
   "metadata": {},
   "source": [
    "### Creando la columna zip_code"
   ]
  },
  {
   "cell_type": "code",
   "execution_count": 11,
   "metadata": {},
   "outputs": [],
   "source": [
    "# Leo la tabla de códigos postales\n",
    "tabla_CP = pd.read_html(\"https://codigo-postal.co/mexico/oaxaca/oaxaca-de-juarez/\")\n",
    "tabla_CP = tabla_CP[0]"
   ]
  },
  {
   "cell_type": "code",
   "execution_count": 12,
   "metadata": {},
   "outputs": [],
   "source": [
    "# Seleccionar las columas que me sirven \n",
    "tabla_CP = tabla_CP.iloc[:, :2]\n",
    "tabla_CP = tabla_CP.drop_duplicates()"
   ]
  },
  {
   "cell_type": "code",
   "execution_count": 13,
   "metadata": {},
   "outputs": [],
   "source": [
    "# Guardar en listas las colonias y sus C.P.\n",
    "cp = list(tabla_CP.iloc[:, 0])\n",
    "direccion = list(tabla_CP.iloc[:, 1])"
   ]
  },
  {
   "cell_type": "code",
   "execution_count": 14,
   "metadata": {},
   "outputs": [],
   "source": [
    "# Crear un diccionario y Eliminar acentos de los nombres de las direcciones\n",
    "cp_dict = {}\n",
    "for i, j in zip(direccion, cp):\n",
    "    cp_dict[i.lower()\\\n",
    "        .replace(\"á\", \"a\")\\\n",
    "        .replace(\"é\", \"e\")\\\n",
    "        .replace(\"í\", \"i\")\\\n",
    "        .replace(\"ó\", \"o\")\\\n",
    "        .replace(\"ú\", \"u\")] = j"
   ]
  },
  {
   "cell_type": "code",
   "execution_count": 15,
   "metadata": {},
   "outputs": [],
   "source": [
    "# Eliminar palabras que entorpecen la búsqueda del C.P.\n",
    "arlette[\"address\"] = arlette.address.apply(\n",
    "    lambda x: x.replace(\"agencia\", \"\").replace(\"municipal\", \"\").strip())"
   ]
  },
  {
   "cell_type": "code",
   "execution_count": 16,
   "metadata": {},
   "outputs": [],
   "source": [
    "# Creo una lista con los datos de zip code para cada propiedad\n",
    "cp_column = []\n",
    "for i, d in zip(arlette.index, arlette.address):\n",
    "    regex = re.compile(fr\"(.{{0,20}}{d}.{{0,20}})\", re.IGNORECASE)\n",
    "    location_name = list(filter(lambda x: regex.findall(x), cp_dict.keys()))\n",
    "\n",
    "    try:\n",
    "        cp_column.append(cp_dict[location_name[0]])\n",
    "    except:\n",
    "        cp_column.append(None)"
   ]
  },
  {
   "cell_type": "code",
   "execution_count": 17,
   "metadata": {},
   "outputs": [],
   "source": [
    "# Creo la columna zip_code con los valores obtenidos de la iteración\n",
    "arlette[\"zip_code\"] = cp_column"
   ]
  },
  {
   "cell_type": "code",
   "execution_count": 18,
   "metadata": {},
   "outputs": [
    {
     "name": "stdout",
     "output_type": "stream",
     "text": [
      "<class 'pandas.core.frame.DataFrame'>\n",
      "RangeIndex: 16 entries, 0 to 15\n",
      "Data columns (total 12 columns):\n",
      " #   Column         Non-Null Count  Dtype  \n",
      "---  ------         --------------  -----  \n",
      " 0   title          16 non-null     object \n",
      " 1   seller         16 non-null     object \n",
      " 2   property_type  16 non-null     object \n",
      " 3   address        16 non-null     object \n",
      " 4   price          16 non-null     float64\n",
      " 5   bedrooms       16 non-null     float64\n",
      " 6   bathrooms      16 non-null     float64\n",
      " 7   built_area     16 non-null     float64\n",
      " 8   land_area      16 non-null     float64\n",
      " 9   description    16 non-null     object \n",
      " 10  parking        16 non-null     float64\n",
      " 11  zip_code       15 non-null     float64\n",
      "dtypes: float64(7), object(5)\n",
      "memory usage: 1.6+ KB\n"
     ]
    }
   ],
   "source": [
    "arlette.info()"
   ]
  },
  {
   "cell_type": "code",
   "execution_count": 19,
   "metadata": {},
   "outputs": [],
   "source": [
    "arlette = arlette.drop_duplicates()\n",
    "arlette = arlette.dropna(ignore_index=True)"
   ]
  },
  {
   "cell_type": "code",
   "execution_count": 20,
   "metadata": {},
   "outputs": [],
   "source": [
    "arlette.to_csv(\"datos_arlette.csv\", index=False)"
   ]
  }
 ],
 "metadata": {
  "kernelspec": {
   "display_name": "venv",
   "language": "python",
   "name": "python3"
  },
  "language_info": {
   "codemirror_mode": {
    "name": "ipython",
    "version": 3
   },
   "file_extension": ".py",
   "mimetype": "text/x-python",
   "name": "python",
   "nbconvert_exporter": "python",
   "pygments_lexer": "ipython3",
   "version": "3.9.7"
  },
  "orig_nbformat": 4
 },
 "nbformat": 4,
 "nbformat_minor": 2
}
