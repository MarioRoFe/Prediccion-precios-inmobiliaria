{
 "cells": [
  {
   "cell_type": "code",
   "execution_count": 19,
   "metadata": {},
   "outputs": [],
   "source": [
    "import pandas as pd\n",
    "import re"
   ]
  },
  {
   "cell_type": "code",
   "execution_count": 20,
   "metadata": {},
   "outputs": [],
   "source": [
    "nocnok = pd.read_csv(\"/home/mario/Proyectos_Mario/proyecto_alonso/datos_extraidos/casas_nocnok.csv\")"
   ]
  },
  {
   "cell_type": "code",
   "execution_count": 21,
   "metadata": {},
   "outputs": [],
   "source": [
    "# Se eliminan todas las casas que tienen un remate bancario o hipotecario\n",
    "# ya que no representan el valor real \n",
    "casas_remate = list(nocnok[nocnok.description.str.contains(\"remate|bancaria|recuperación|hipotecaria\", case=False)].index)\n",
    "nocnok = nocnok.drop(index=casas_remate)\n",
    "nocnok = nocnok.reset_index(drop=\"first\")"
   ]
  },
  {
   "cell_type": "code",
   "execution_count": 22,
   "metadata": {},
   "outputs": [
    {
     "name": "stdout",
     "output_type": "stream",
     "text": [
      "<class 'pandas.core.frame.DataFrame'>\n",
      "RangeIndex: 103 entries, 0 to 102\n",
      "Data columns (total 11 columns):\n",
      " #   Column         Non-Null Count  Dtype  \n",
      "---  ------         --------------  -----  \n",
      " 0   title          103 non-null    object \n",
      " 1   seller         103 non-null    object \n",
      " 2   property_type  103 non-null    object \n",
      " 3   address        102 non-null    object \n",
      " 4   price          103 non-null    int64  \n",
      " 5   bedrooms       103 non-null    int64  \n",
      " 6   bathrooms      103 non-null    int64  \n",
      " 7   built_Area     103 non-null    int64  \n",
      " 8   land_Area      103 non-null    object \n",
      " 9   parking        0 non-null      float64\n",
      " 10  description    103 non-null    object \n",
      "dtypes: float64(1), int64(4), object(6)\n",
      "memory usage: 9.0+ KB\n"
     ]
    }
   ],
   "source": [
    "# Todos los valores de la columna parking son nulos\n",
    "# De momento se eliminará la columna para continuar con \n",
    "# la limpieza de los datos\n",
    "# La columna address también tiene valores nulos\n",
    "nocnok.info()"
   ]
  },
  {
   "cell_type": "code",
   "execution_count": 23,
   "metadata": {},
   "outputs": [],
   "source": [
    "# Se elimina la columna parking\n",
    "nocnok = nocnok.drop(columns=\"parking\")\n",
    "# Elimino los valores nulos de address\n",
    "nocnok = nocnok.dropna(ignore_index=True)"
   ]
  },
  {
   "cell_type": "code",
   "execution_count": 24,
   "metadata": {},
   "outputs": [],
   "source": [
    "# Adecuo los valores de la columna adddress para hacer una búsqueda efectiva de los zip codes\n",
    "nocnok[\"address\"] = nocnok[\"address\"].apply(lambda x: x.lower()\\\n",
    "                                                        .replace(\"á\", \"a\")\\\n",
    "                                                        .replace(\"é\", \"e\")\\\n",
    "                                                        .replace(\"í\", \"i\")\\\n",
    "                                                        .replace(\"ó\", \"o\")\\\n",
    "                                                        .replace(\"ú\", \"u\"))\n",
    "nocnok[\"address\"] = nocnok[\"address\"].str.replace(\", oaxaca de juarez, oaxaca\", \"\").str.strip()\n"
   ]
  },
  {
   "cell_type": "markdown",
   "metadata": {},
   "source": [
    "### Creando la columna zip_code"
   ]
  },
  {
   "cell_type": "code",
   "execution_count": 25,
   "metadata": {},
   "outputs": [
    {
     "data": {
      "text/plain": [
       "0"
      ]
     },
     "execution_count": 25,
     "metadata": {},
     "output_type": "execute_result"
    }
   ],
   "source": [
    "len(nocnok[nocnok.address.str.contains(\", oaxaca de juarez, oaxaca\", case=False)])"
   ]
  },
  {
   "cell_type": "code",
   "execution_count": 26,
   "metadata": {},
   "outputs": [],
   "source": [
    "# Leo la tabla de códigos postales\n",
    "tabla_CP = pd.read_html(\"https://codigo-postal.co/mexico/oaxaca/oaxaca-de-juarez/\")\n",
    "tabla_CP = tabla_CP[0]\n",
    "\n",
    "# Seleccionar las columas que me sirven \n",
    "tabla_CP = tabla_CP.iloc[:, :2]\n",
    "tabla_CP = tabla_CP.drop_duplicates(ignore_index=True)\n",
    "\n",
    "# Guardar en listas las colonias y sus C.P.\n",
    "cp = list(tabla_CP.iloc[:, 0])\n",
    "direccion = list(tabla_CP.iloc[:, 1])\n",
    "\n",
    "# Crear un diccionario y Eliminar acentos de los nombres de las direcciones\n",
    "cp_dict = {}\n",
    "for i, j in zip(direccion, cp):\n",
    "    cp_dict[i.lower()\\\n",
    "        .replace(\"á\", \"a\")\\\n",
    "        .replace(\"é\", \"e\")\\\n",
    "        .replace(\"í\", \"i\")\\\n",
    "        .replace(\"ó\", \"o\")\\\n",
    "        .replace(\"ú\", \"u\")] = j"
   ]
  },
  {
   "cell_type": "code",
   "execution_count": 27,
   "metadata": {},
   "outputs": [],
   "source": [
    "# Creo una lista con los datos de zip code para cada propiedad\n",
    "cp_column = []\n",
    "for i, d in zip(nocnok.index, nocnok.address):\n",
    "    regex = re.compile(fr\"(.{{0,20}}{d}.{{0,20}})\", re.IGNORECASE)\n",
    "    location_name = list(filter(lambda x: regex.findall(x), cp_dict.keys()))\n",
    "\n",
    "    try:\n",
    "        cp_column.append(cp_dict[location_name[0]])\n",
    "    except:\n",
    "        cp_column.append(None)"
   ]
  },
  {
   "cell_type": "code",
   "execution_count": 28,
   "metadata": {},
   "outputs": [],
   "source": [
    "# Creo la columna zip_code con los valores obtenidos de la iteración\n",
    "nocnok[\"zip_code\"] = cp_column"
   ]
  },
  {
   "cell_type": "code",
   "execution_count": 29,
   "metadata": {},
   "outputs": [
    {
     "name": "stdout",
     "output_type": "stream",
     "text": [
      "<class 'pandas.core.frame.DataFrame'>\n",
      "RangeIndex: 102 entries, 0 to 101\n",
      "Data columns (total 11 columns):\n",
      " #   Column         Non-Null Count  Dtype  \n",
      "---  ------         --------------  -----  \n",
      " 0   title          102 non-null    object \n",
      " 1   seller         102 non-null    object \n",
      " 2   property_type  102 non-null    object \n",
      " 3   address        102 non-null    object \n",
      " 4   price          102 non-null    int64  \n",
      " 5   bedrooms       102 non-null    int64  \n",
      " 6   bathrooms      102 non-null    int64  \n",
      " 7   built_Area     102 non-null    int64  \n",
      " 8   land_Area      102 non-null    object \n",
      " 9   description    102 non-null    object \n",
      " 10  zip_code       99 non-null     float64\n",
      "dtypes: float64(1), int64(4), object(6)\n",
      "memory usage: 8.9+ KB\n"
     ]
    }
   ],
   "source": [
    "nocnok.info()"
   ]
  },
  {
   "cell_type": "code",
   "execution_count": 30,
   "metadata": {},
   "outputs": [],
   "source": [
    "# Se eliminan los valores nulos\n",
    "nocnok = nocnok.drop_duplicates()\n",
    "nocnok = nocnok.dropna(ignore_index=True)"
   ]
  },
  {
   "cell_type": "code",
   "execution_count": 31,
   "metadata": {},
   "outputs": [
    {
     "name": "stdout",
     "output_type": "stream",
     "text": [
      "<class 'pandas.core.frame.DataFrame'>\n",
      "RangeIndex: 83 entries, 0 to 82\n",
      "Data columns (total 11 columns):\n",
      " #   Column         Non-Null Count  Dtype  \n",
      "---  ------         --------------  -----  \n",
      " 0   title          83 non-null     object \n",
      " 1   seller         83 non-null     object \n",
      " 2   property_type  83 non-null     object \n",
      " 3   address        83 non-null     object \n",
      " 4   price          83 non-null     int64  \n",
      " 5   bedrooms       83 non-null     int64  \n",
      " 6   bathrooms      83 non-null     int64  \n",
      " 7   built_Area     83 non-null     int64  \n",
      " 8   land_Area      83 non-null     object \n",
      " 9   description    83 non-null     object \n",
      " 10  zip_code       83 non-null     float64\n",
      "dtypes: float64(1), int64(4), object(6)\n",
      "memory usage: 7.3+ KB\n"
     ]
    }
   ],
   "source": [
    "nocnok.info()"
   ]
  },
  {
   "cell_type": "code",
   "execution_count": 32,
   "metadata": {},
   "outputs": [
    {
     "data": {
      "text/plain": [
       "83"
      ]
     },
     "execution_count": 32,
     "metadata": {},
     "output_type": "execute_result"
    }
   ],
   "source": [
    "len(nocnok.drop_duplicates())"
   ]
  },
  {
   "cell_type": "markdown",
   "metadata": {},
   "source": [
    "### Creando la columna parking"
   ]
  },
  {
   "cell_type": "code",
   "execution_count": 33,
   "metadata": {},
   "outputs": [],
   "source": [
    "# Con esta función localizo el texto donde especifica los lugares de estacionamiento en la descripción\n",
    "def econtrar_textos(texto):\n",
    "    regex = r\"(?i)(.{0,10}estacionamientos?.{0,30}|.{0,10}cocheras?.{0,30}|.{0,10}garages?.{0,30}|.{0,10}parkings?.{0,30})\"\n",
    "    expresion = re.findall(regex, texto)\n",
    "    expresion = \"\".join(expresion)\n",
    "    if len(expresion) > 0:\n",
    "        valor_de_celda = expresion\n",
    "    else:\n",
    "        valor_de_celda = \"cero\"\n",
    "    return valor_de_celda"
   ]
  },
  {
   "cell_type": "code",
   "execution_count": 34,
   "metadata": {},
   "outputs": [],
   "source": [
    "# Función para encontrar en la descripción el número de lugares de estacionamiento\n",
    "def asignar_valor_estacionamiento(texto):\n",
    "    # Buscar dígitos numéricos en el texto\n",
    "    if texto != \"cero\":    \n",
    "        numeros_encontrados = re.findall(r'\\d+', texto)\n",
    "\n",
    "        if numeros_encontrados:\n",
    "            # Tomar el primer número encontrado y convertirlo a entero\n",
    "            return int(numeros_encontrados[0])\n",
    "        elif \"para dos\" in texto.lower():\n",
    "            return 2\n",
    "        elif \"para tres\" in texto.lower():\n",
    "            return 3\n",
    "        elif \"para cuatro\" in texto.lower():\n",
    "            return 4\n",
    "        elif \"para cinco\" in texto.lower():\n",
    "            return 5\n",
    "        else:\n",
    "            return 1"
   ]
  },
  {
   "cell_type": "code",
   "execution_count": 35,
   "metadata": {},
   "outputs": [],
   "source": [
    "# Aplicar las funciones para buscar los valores de parking\n",
    "nocnok[\"parking\"] = nocnok[\"description\"].apply(econtrar_textos)\n",
    "nocnok[\"parking\"] = nocnok[\"parking\"].apply(asignar_valor_estacionamiento)"
   ]
  },
  {
   "cell_type": "code",
   "execution_count": 36,
   "metadata": {},
   "outputs": [
    {
     "name": "stdout",
     "output_type": "stream",
     "text": [
      "<class 'pandas.core.frame.DataFrame'>\n",
      "RangeIndex: 83 entries, 0 to 82\n",
      "Data columns (total 12 columns):\n",
      " #   Column         Non-Null Count  Dtype  \n",
      "---  ------         --------------  -----  \n",
      " 0   title          83 non-null     object \n",
      " 1   seller         83 non-null     object \n",
      " 2   property_type  83 non-null     object \n",
      " 3   address        83 non-null     object \n",
      " 4   price          83 non-null     int64  \n",
      " 5   bedrooms       83 non-null     int64  \n",
      " 6   bathrooms      83 non-null     int64  \n",
      " 7   built_Area     83 non-null     int64  \n",
      " 8   land_Area      83 non-null     object \n",
      " 9   description    83 non-null     object \n",
      " 10  zip_code       83 non-null     float64\n",
      " 11  parking        55 non-null     float64\n",
      "dtypes: float64(2), int64(4), object(6)\n",
      "memory usage: 7.9+ KB\n"
     ]
    }
   ],
   "source": [
    "nocnok.info()"
   ]
  },
  {
   "cell_type": "code",
   "execution_count": 37,
   "metadata": {},
   "outputs": [],
   "source": [
    "nocnok.to_csv(\"datos_nocnok.csv\", index=False)"
   ]
  }
 ],
 "metadata": {
  "kernelspec": {
   "display_name": "venv",
   "language": "python",
   "name": "python3"
  },
  "language_info": {
   "codemirror_mode": {
    "name": "ipython",
    "version": 3
   },
   "file_extension": ".py",
   "mimetype": "text/x-python",
   "name": "python",
   "nbconvert_exporter": "python",
   "pygments_lexer": "ipython3",
   "version": "3.9.7"
  },
  "orig_nbformat": 4
 },
 "nbformat": 4,
 "nbformat_minor": 2
}
